{
 "cells": [
  {
   "cell_type": "markdown",
   "id": "4f7c92e0",
   "metadata": {},
   "source": [
    "# PYTHON (DAY 1)\n",
    "## Introduction: Basic math in Python"
   ]
  },
  {
   "cell_type": "code",
   "execution_count": 1,
   "id": "d45cb106",
   "metadata": {},
   "outputs": [
    {
     "data": {
      "text/plain": [
       "1"
      ]
     },
     "execution_count": 1,
     "metadata": {},
     "output_type": "execute_result"
    }
   ],
   "source": [
    "1 # This is ruturing the number as typed. I think if it is a text it won't return"
   ]
  },
  {
   "cell_type": "code",
   "execution_count": 13,
   "id": "08f47543",
   "metadata": {},
   "outputs": [
    {
     "data": {
      "text/plain": [
       "1000000000000000.0"
      ]
     },
     "execution_count": 13,
     "metadata": {},
     "output_type": "execute_result"
    }
   ],
   "source": [
    "1e15 # Text throws an error but 1e6 works"
   ]
  },
  {
   "cell_type": "code",
   "execution_count": 14,
   "id": "6f3113f7",
   "metadata": {},
   "outputs": [
    {
     "data": {
      "text/plain": [
       "13"
      ]
     },
     "execution_count": 14,
     "metadata": {},
     "output_type": "execute_result"
    }
   ],
   "source": [
    "10 + 3"
   ]
  },
  {
   "cell_type": "code",
   "execution_count": 17,
   "id": "6bb503fe",
   "metadata": {},
   "outputs": [
    {
     "data": {
      "text/plain": [
       "-28.2"
      ]
     },
     "execution_count": 17,
     "metadata": {},
     "output_type": "execute_result"
    }
   ],
   "source": [
    "43 - 78 + (34*1)/5"
   ]
  },
  {
   "cell_type": "code",
   "execution_count": 18,
   "id": "45f0b9c2",
   "metadata": {},
   "outputs": [
    {
     "data": {
      "text/plain": [
       "10.285714285714286"
      ]
     },
     "execution_count": 18,
     "metadata": {},
     "output_type": "execute_result"
    }
   ],
   "source": [
    "9 + 9/7"
   ]
  },
  {
   "cell_type": "code",
   "execution_count": 19,
   "id": "ea2010aa",
   "metadata": {},
   "outputs": [
    {
     "data": {
      "text/plain": [
       "224"
      ]
     },
     "execution_count": 19,
     "metadata": {},
     "output_type": "execute_result"
    }
   ],
   "source": [
    "4 * 56"
   ]
  },
  {
   "cell_type": "code",
   "execution_count": 20,
   "id": "f82a04a6",
   "metadata": {},
   "outputs": [
    {
     "data": {
      "text/plain": [
       "128"
      ]
     },
     "execution_count": 20,
     "metadata": {},
     "output_type": "execute_result"
    }
   ],
   "source": [
    "2 ** 7 # Raising 2 to the power of seven"
   ]
  },
  {
   "cell_type": "code",
   "execution_count": 21,
   "id": "36e967b9",
   "metadata": {},
   "outputs": [
    {
     "data": {
      "text/plain": [
       "128"
      ]
     },
     "execution_count": 21,
     "metadata": {},
     "output_type": "execute_result"
    }
   ],
   "source": [
    "pow(2,7) # This is the same as above"
   ]
  },
  {
   "cell_type": "code",
   "execution_count": 24,
   "id": "3e105e44",
   "metadata": {},
   "outputs": [
    {
     "data": {
      "text/plain": [
       "0.6666666666666666"
      ]
     },
     "execution_count": 24,
     "metadata": {},
     "output_type": "execute_result"
    }
   ],
   "source": [
    "8 / 12 # Dividing a number by another"
   ]
  },
  {
   "cell_type": "code",
   "execution_count": 30,
   "id": "a6542bd7",
   "metadata": {},
   "outputs": [
    {
     "data": {
      "text/plain": [
       "0.009791921664626682"
      ]
     },
     "execution_count": 30,
     "metadata": {},
     "output_type": "execute_result"
    }
   ],
   "source": [
    "8 / 8.17e2 # Dividing an integer by an exponentiated number"
   ]
  },
  {
   "cell_type": "code",
   "execution_count": 31,
   "id": "78d21066",
   "metadata": {},
   "outputs": [
    {
     "data": {
      "text/plain": [
       "817.0"
      ]
     },
     "execution_count": 31,
     "metadata": {},
     "output_type": "execute_result"
    }
   ],
   "source": [
    "8.17e2 # Just what does this print?"
   ]
  },
  {
   "cell_type": "code",
   "execution_count": 23,
   "id": "6d822836",
   "metadata": {},
   "outputs": [
    {
     "data": {
      "text/plain": [
       "2"
      ]
     },
     "execution_count": 23,
     "metadata": {},
     "output_type": "execute_result"
    }
   ],
   "source": [
    "5 // 2"
   ]
  },
  {
   "cell_type": "code",
   "execution_count": 9,
   "id": "114f0a4b",
   "metadata": {},
   "outputs": [
    {
     "data": {
      "text/plain": [
       "4"
      ]
     },
     "execution_count": 9,
     "metadata": {},
     "output_type": "execute_result"
    }
   ],
   "source": [
    "4 % 7"
   ]
  },
  {
   "cell_type": "code",
   "execution_count": 10,
   "id": "7e2fa645",
   "metadata": {},
   "outputs": [
    {
     "data": {
      "text/plain": [
       "0.8888888888888888"
      ]
     },
     "execution_count": 10,
     "metadata": {},
     "output_type": "execute_result"
    }
   ],
   "source": [
    "8 / 9"
   ]
  },
  {
   "cell_type": "code",
   "execution_count": 11,
   "id": "414663a6",
   "metadata": {},
   "outputs": [
    {
     "data": {
      "text/plain": [
       "0.05357142857142857"
      ]
     },
     "execution_count": 11,
     "metadata": {},
     "output_type": "execute_result"
    }
   ],
   "source": [
    "(9 + 9) / (56 * 6)"
   ]
  },
  {
   "cell_type": "code",
   "execution_count": 12,
   "id": "087cd6a7",
   "metadata": {},
   "outputs": [],
   "source": [
    "name = 1"
   ]
  },
  {
   "cell_type": "code",
   "execution_count": 13,
   "id": "9f4c2e78",
   "metadata": {},
   "outputs": [
    {
     "data": {
      "text/plain": [
       "1"
      ]
     },
     "execution_count": 13,
     "metadata": {},
     "output_type": "execute_result"
    }
   ],
   "source": [
    "name"
   ]
  },
  {
   "cell_type": "code",
   "execution_count": 14,
   "id": "90211384",
   "metadata": {},
   "outputs": [
    {
     "name": "stdout",
     "output_type": "stream",
     "text": [
      "1\n"
     ]
    }
   ],
   "source": [
    "print(name)"
   ]
  },
  {
   "cell_type": "code",
   "execution_count": 15,
   "id": "b5a7d287",
   "metadata": {},
   "outputs": [],
   "source": [
    "dhruv = 10"
   ]
  },
  {
   "cell_type": "code",
   "execution_count": 16,
   "id": "c55de521",
   "metadata": {},
   "outputs": [
    {
     "data": {
      "text/plain": [
       "10"
      ]
     },
     "execution_count": 16,
     "metadata": {},
     "output_type": "execute_result"
    }
   ],
   "source": [
    "dhruv"
   ]
  },
  {
   "cell_type": "code",
   "execution_count": 17,
   "id": "10b4b73e",
   "metadata": {},
   "outputs": [
    {
     "name": "stdout",
     "output_type": "stream",
     "text": [
      "10\n"
     ]
    }
   ],
   "source": [
    "print(dhruv)"
   ]
  },
  {
   "cell_type": "code",
   "execution_count": 18,
   "id": "f3d6b4c1",
   "metadata": {},
   "outputs": [],
   "source": [
    "x = 9\n",
    "y = 5"
   ]
  },
  {
   "cell_type": "code",
   "execution_count": 19,
   "id": "1f3e32f3",
   "metadata": {},
   "outputs": [],
   "source": [
    "z = x + y"
   ]
  },
  {
   "cell_type": "code",
   "execution_count": 20,
   "id": "3f830cf0",
   "metadata": {},
   "outputs": [
    {
     "data": {
      "text/plain": [
       "14"
      ]
     },
     "execution_count": 20,
     "metadata": {},
     "output_type": "execute_result"
    }
   ],
   "source": [
    "z"
   ]
  },
  {
   "cell_type": "code",
   "execution_count": 21,
   "id": "329e3a5b",
   "metadata": {
    "scrolled": true
   },
   "outputs": [
    {
     "name": "stdout",
     "output_type": "stream",
     "text": [
      "14\n"
     ]
    }
   ],
   "source": [
    "print(z)"
   ]
  },
  {
   "cell_type": "code",
   "execution_count": 22,
   "id": "059b7044",
   "metadata": {},
   "outputs": [],
   "source": [
    "s = x - y"
   ]
  },
  {
   "cell_type": "code",
   "execution_count": 23,
   "id": "a4fe4531",
   "metadata": {},
   "outputs": [
    {
     "data": {
      "text/plain": [
       "4"
      ]
     },
     "execution_count": 23,
     "metadata": {},
     "output_type": "execute_result"
    }
   ],
   "source": [
    "s"
   ]
  },
  {
   "cell_type": "code",
   "execution_count": 24,
   "id": "96610877",
   "metadata": {
    "scrolled": true
   },
   "outputs": [
    {
     "data": {
      "text/plain": [
       "9"
      ]
     },
     "execution_count": 24,
     "metadata": {},
     "output_type": "execute_result"
    }
   ],
   "source": [
    "_+ y # Underscore is the previous value"
   ]
  },
  {
   "cell_type": "markdown",
   "id": "c03040c5",
   "metadata": {},
   "source": [
    "## Combining strings together"
   ]
  },
  {
   "cell_type": "code",
   "execution_count": 25,
   "id": "a7449a03",
   "metadata": {},
   "outputs": [],
   "source": [
    " subject = 'python'"
   ]
  },
  {
   "cell_type": "code",
   "execution_count": 26,
   "id": "fc703a8b",
   "metadata": {},
   "outputs": [
    {
     "data": {
      "text/plain": [
       "'python'"
      ]
     },
     "execution_count": 26,
     "metadata": {},
     "output_type": "execute_result"
    }
   ],
   "source": [
    "subject"
   ]
  },
  {
   "cell_type": "code",
   "execution_count": 27,
   "id": "a3620318",
   "metadata": {},
   "outputs": [],
   "source": [
    "name = 'language'"
   ]
  },
  {
   "cell_type": "code",
   "execution_count": 28,
   "id": "6eace02f",
   "metadata": {},
   "outputs": [
    {
     "data": {
      "text/plain": [
       "'language'"
      ]
     },
     "execution_count": 28,
     "metadata": {},
     "output_type": "execute_result"
    }
   ],
   "source": [
    "name"
   ]
  },
  {
   "cell_type": "code",
   "execution_count": 29,
   "id": "9f4b7b6d",
   "metadata": {},
   "outputs": [],
   "source": [
    "learn = subject + name"
   ]
  },
  {
   "cell_type": "code",
   "execution_count": 30,
   "id": "97cfd0b1",
   "metadata": {},
   "outputs": [
    {
     "data": {
      "text/plain": [
       "'pythonlanguage'"
      ]
     },
     "execution_count": 30,
     "metadata": {},
     "output_type": "execute_result"
    }
   ],
   "source": [
    "learn"
   ]
  },
  {
   "cell_type": "code",
   "execution_count": 31,
   "id": "4ee080be",
   "metadata": {},
   "outputs": [
    {
     "data": {
      "text/plain": [
       "'language learning'"
      ]
     },
     "execution_count": 31,
     "metadata": {},
     "output_type": "execute_result"
    }
   ],
   "source": [
    "name +' learning'"
   ]
  },
  {
   "cell_type": "markdown",
   "id": "83381d9c",
   "metadata": {},
   "source": [
    "## Indexing strings"
   ]
  },
  {
   "cell_type": "code",
   "execution_count": 32,
   "id": "9bb5b634",
   "metadata": {},
   "outputs": [],
   "source": [
    "name = 'language'"
   ]
  },
  {
   "cell_type": "code",
   "execution_count": 33,
   "id": "10f20e8d",
   "metadata": {},
   "outputs": [
    {
     "data": {
      "text/plain": [
       "'l'"
      ]
     },
     "execution_count": 33,
     "metadata": {},
     "output_type": "execute_result"
    }
   ],
   "source": [
    "name[0] # This is the first index"
   ]
  },
  {
   "cell_type": "code",
   "execution_count": 34,
   "id": "4a03421d",
   "metadata": {},
   "outputs": [],
   "source": [
    "#name[8] # 8 is beyond the lenght of the name"
   ]
  },
  {
   "cell_type": "code",
   "execution_count": 35,
   "id": "6ed53be5",
   "metadata": {},
   "outputs": [
    {
     "data": {
      "text/plain": [
       "'g'"
      ]
     },
     "execution_count": 35,
     "metadata": {},
     "output_type": "execute_result"
    }
   ],
   "source": [
    "name[-5] # This is reverse direction"
   ]
  },
  {
   "cell_type": "markdown",
   "id": "dcb43786",
   "metadata": {},
   "source": [
    "## Printing more strings together"
   ]
  },
  {
   "cell_type": "code",
   "execution_count": 36,
   "id": "e9953c21",
   "metadata": {},
   "outputs": [],
   "source": [
    "var1 = ' computer science'"
   ]
  },
  {
   "cell_type": "code",
   "execution_count": 37,
   "id": "da3730d6",
   "metadata": {},
   "outputs": [],
   "source": [
    "var2 = ' information practices'"
   ]
  },
  {
   "cell_type": "code",
   "execution_count": 38,
   "id": "5b95dc76",
   "metadata": {},
   "outputs": [
    {
     "data": {
      "text/plain": [
       "' computer science'"
      ]
     },
     "execution_count": 38,
     "metadata": {},
     "output_type": "execute_result"
    }
   ],
   "source": [
    "var1"
   ]
  },
  {
   "cell_type": "code",
   "execution_count": 39,
   "id": "7722f569",
   "metadata": {},
   "outputs": [
    {
     "data": {
      "text/plain": [
       "' information practices'"
      ]
     },
     "execution_count": 39,
     "metadata": {},
     "output_type": "execute_result"
    }
   ],
   "source": [
    "var2"
   ]
  },
  {
   "cell_type": "code",
   "execution_count": 40,
   "id": "fc71fe70",
   "metadata": {},
   "outputs": [
    {
     "name": "stdout",
     "output_type": "stream",
     "text": [
      " computer science  and   information practices\n"
     ]
    }
   ],
   "source": [
    "print(var1, ' and ', var2)"
   ]
  },
  {
   "cell_type": "markdown",
   "id": "afeac606",
   "metadata": {},
   "source": [
    "## Literals in Python\n",
    "### String literals"
   ]
  },
  {
   "cell_type": "code",
   "execution_count": 41,
   "id": "5eeb59ca",
   "metadata": {},
   "outputs": [],
   "source": [
    "# literals in python can be defined as number, text or other data that represent values to be stored in variables"
   ]
  },
  {
   "cell_type": "code",
   "execution_count": 42,
   "id": "be1894e8",
   "metadata": {},
   "outputs": [],
   "source": [
    "# examlple of string literals in python\n",
    "name = 'python'"
   ]
  },
  {
   "cell_type": "code",
   "execution_count": 43,
   "id": "c0ab7709",
   "metadata": {},
   "outputs": [
    {
     "data": {
      "text/plain": [
       "'python'"
      ]
     },
     "execution_count": 43,
     "metadata": {},
     "output_type": "execute_result"
    }
   ],
   "source": [
    "name"
   ]
  },
  {
   "cell_type": "markdown",
   "id": "5947048c",
   "metadata": {},
   "source": [
    "### Integer literals"
   ]
  },
  {
   "cell_type": "code",
   "execution_count": 44,
   "id": "efe7c5b4",
   "metadata": {},
   "outputs": [],
   "source": [
    "age = 22"
   ]
  },
  {
   "cell_type": "code",
   "execution_count": 45,
   "id": "e88697c6",
   "metadata": {},
   "outputs": [
    {
     "data": {
      "text/plain": [
       "22"
      ]
     },
     "execution_count": 45,
     "metadata": {},
     "output_type": "execute_result"
    }
   ],
   "source": [
    "age"
   ]
  },
  {
   "cell_type": "code",
   "execution_count": 46,
   "id": "9131e31d",
   "metadata": {},
   "outputs": [],
   "source": [
    "# float literals (numeric literal)\n",
    "height = 6.2"
   ]
  },
  {
   "cell_type": "code",
   "execution_count": 47,
   "id": "0810e81e",
   "metadata": {},
   "outputs": [
    {
     "data": {
      "text/plain": [
       "6.2"
      ]
     },
     "execution_count": 47,
     "metadata": {},
     "output_type": "execute_result"
    }
   ],
   "source": [
    "height"
   ]
  },
  {
   "cell_type": "markdown",
   "id": "b2c3f44c",
   "metadata": {},
   "source": [
    "## Operators in Python"
   ]
  },
  {
   "cell_type": "markdown",
   "id": "e5eb7e3c",
   "metadata": {},
   "source": [
    "Operators can be defined as symbols that are used to perform operations on operands "
   ]
  },
  {
   "cell_type": "markdown",
   "id": "ff510b24",
   "metadata": {},
   "source": [
    "Types of operators\n",
    "1. ARITHMETIC OPERATORS\n",
    "2. RELATIONAL OPERATORS\n",
    "3. ASSIGNMENT OPERATORS\n",
    "4. LOGICAL OPERATORS\n",
    "5. IDENTITY OPERATORS\n",
    "6. MEMBERSHIP OPERATORS"
   ]
  },
  {
   "cell_type": "markdown",
   "id": "1852ef2d",
   "metadata": {},
   "source": [
    "### Arithmetic operators- (AO)\n",
    "AO are used to perform arithmetic operations like addition, multiplications etc"
   ]
  },
  {
   "cell_type": "markdown",
   "id": "09d29afd",
   "metadata": {},
   "source": [
    "#### ' + ' \n",
    "Performs addition of two numbers a + b"
   ]
  },
  {
   "cell_type": "code",
   "execution_count": 48,
   "id": "4c89e32c",
   "metadata": {},
   "outputs": [
    {
     "data": {
      "text/plain": [
       "7"
      ]
     },
     "execution_count": 48,
     "metadata": {},
     "output_type": "execute_result"
    }
   ],
   "source": [
    "a = 4\n",
    "b = 3\n",
    "a + b"
   ]
  },
  {
   "cell_type": "markdown",
   "id": "14db1b7d",
   "metadata": {},
   "source": [
    "####  ' - ' \n",
    "Subtraction operators perform subtraction of numbers a - b"
   ]
  },
  {
   "cell_type": "code",
   "execution_count": 49,
   "id": "2d442485",
   "metadata": {},
   "outputs": [
    {
     "data": {
      "text/plain": [
       "1"
      ]
     },
     "execution_count": 49,
     "metadata": {},
     "output_type": "execute_result"
    }
   ],
   "source": [
    "a - b"
   ]
  },
  {
   "cell_type": "markdown",
   "id": "e9523e9f",
   "metadata": {},
   "source": [
    "#### ' / ' \n",
    "\n",
    "Performs division of two numbers a / b\n"
   ]
  },
  {
   "cell_type": "code",
   "execution_count": 50,
   "id": "184e8fdd",
   "metadata": {},
   "outputs": [
    {
     "data": {
      "text/plain": [
       "1.3333333333333333"
      ]
     },
     "execution_count": 50,
     "metadata": {},
     "output_type": "execute_result"
    }
   ],
   "source": [
    "a / b"
   ]
  },
  {
   "cell_type": "markdown",
   "id": "901ad17a",
   "metadata": {},
   "source": [
    "#### ' * ' \n",
    "Performs multiplication of two numbers a * b\n"
   ]
  },
  {
   "cell_type": "code",
   "execution_count": 51,
   "id": "7f176e34",
   "metadata": {},
   "outputs": [
    {
     "data": {
      "text/plain": [
       "12"
      ]
     },
     "execution_count": 51,
     "metadata": {},
     "output_type": "execute_result"
    }
   ],
   "source": [
    "a * b"
   ]
  },
  {
   "cell_type": "markdown",
   "id": "d52e360d",
   "metadata": {},
   "source": [
    "#### ' % ' \n",
    "MODULUS = returns the remainder in division of two numbers a % b\n"
   ]
  },
  {
   "cell_type": "code",
   "execution_count": 52,
   "id": "1dc28ef8",
   "metadata": {},
   "outputs": [
    {
     "data": {
      "text/plain": [
       "1"
      ]
     },
     "execution_count": 52,
     "metadata": {},
     "output_type": "execute_result"
    }
   ],
   "source": [
    "a % b"
   ]
  },
  {
   "cell_type": "markdown",
   "id": "7c416524",
   "metadata": {},
   "source": [
    "#### ' // ' \n",
    "Floor division = removes digits after decimal point a // b\n"
   ]
  },
  {
   "cell_type": "code",
   "execution_count": 53,
   "id": "515ee120",
   "metadata": {},
   "outputs": [
    {
     "data": {
      "text/plain": [
       "1"
      ]
     },
     "execution_count": 53,
     "metadata": {},
     "output_type": "execute_result"
    }
   ],
   "source": [
    "a // b"
   ]
  },
  {
   "cell_type": "markdown",
   "id": "09cd0a7e",
   "metadata": {},
   "source": [
    "#### ' ** ' \n",
    "Exponent = Performs raise to power \n"
   ]
  },
  {
   "cell_type": "code",
   "execution_count": 54,
   "id": "e23c0d2e",
   "metadata": {},
   "outputs": [
    {
     "data": {
      "text/plain": [
       "64"
      ]
     },
     "execution_count": 54,
     "metadata": {},
     "output_type": "execute_result"
    }
   ],
   "source": [
    "a ** b"
   ]
  },
  {
   "cell_type": "markdown",
   "id": "1b634e32",
   "metadata": {},
   "source": [
    "### Relational Operators (RO)\n"
   ]
  },
  {
   "cell_type": "markdown",
   "id": "81028d2e",
   "metadata": {},
   "source": [
    "RO are used to compare two values "
   ]
  },
  {
   "cell_type": "markdown",
   "id": "298f69b9",
   "metadata": {},
   "source": [
    "#### '==' \n",
    "Equal to, return true if a equal to b a == b\n"
   ]
  },
  {
   "cell_type": "code",
   "execution_count": 55,
   "id": "9b80ff52",
   "metadata": {},
   "outputs": [
    {
     "data": {
      "text/plain": [
       "False"
      ]
     },
     "execution_count": 55,
     "metadata": {},
     "output_type": "execute_result"
    }
   ],
   "source": [
    "a = 5\n",
    "b = 4\n",
    "a == b"
   ]
  },
  {
   "cell_type": "markdown",
   "id": "7909fb7d",
   "metadata": {},
   "source": [
    "#### '!=' \n",
    "Not equal, return true if a is not equal to b a != b\n"
   ]
  },
  {
   "cell_type": "code",
   "execution_count": 56,
   "id": "bb07db7e",
   "metadata": {},
   "outputs": [
    {
     "data": {
      "text/plain": [
       "True"
      ]
     },
     "execution_count": 56,
     "metadata": {},
     "output_type": "execute_result"
    }
   ],
   "source": [
    "a != b"
   ]
  },
  {
   "cell_type": "markdown",
   "id": "cc58d504",
   "metadata": {},
   "source": [
    "#### '>' \n",
    "Greater than, return true if a is greater than b  a > b\n"
   ]
  },
  {
   "cell_type": "code",
   "execution_count": 57,
   "id": "0965329e",
   "metadata": {},
   "outputs": [
    {
     "data": {
      "text/plain": [
       "True"
      ]
     },
     "execution_count": 57,
     "metadata": {},
     "output_type": "execute_result"
    }
   ],
   "source": [
    "a > b"
   ]
  },
  {
   "cell_type": "markdown",
   "id": "505bc37c",
   "metadata": {},
   "source": [
    "#### '>=' \n",
    "Greater than or equalto, returns true if a is greater than b or a is equal to b  a >= b\n"
   ]
  },
  {
   "cell_type": "code",
   "execution_count": 58,
   "id": "54848570",
   "metadata": {},
   "outputs": [
    {
     "data": {
      "text/plain": [
       "True"
      ]
     },
     "execution_count": 58,
     "metadata": {},
     "output_type": "execute_result"
    }
   ],
   "source": [
    "a >= b\n"
   ]
  },
  {
   "cell_type": "code",
   "execution_count": 59,
   "id": "5d8ca7cb",
   "metadata": {},
   "outputs": [],
   "source": [
    "# '<'\n",
    "# '<='"
   ]
  },
  {
   "cell_type": "markdown",
   "id": "759b948c",
   "metadata": {},
   "source": [
    "### Assignment Operators (AO)\n",
    "Used to assign values to variables\n"
   ]
  },
  {
   "cell_type": "markdown",
   "id": "87e9c06b",
   "metadata": {},
   "source": [
    "#### ' = ' \n",
    "Assign the values from right side operands to left side operands a = b\n"
   ]
  },
  {
   "cell_type": "code",
   "execution_count": 60,
   "id": "7457f352",
   "metadata": {},
   "outputs": [],
   "source": [
    "a = 5\n",
    "b = 4\n",
    "a = b"
   ]
  },
  {
   "cell_type": "code",
   "execution_count": 61,
   "id": "a0b6870a",
   "metadata": {},
   "outputs": [
    {
     "data": {
      "text/plain": [
       "4"
      ]
     },
     "execution_count": 61,
     "metadata": {},
     "output_type": "execute_result"
    }
   ],
   "source": [
    "a"
   ]
  },
  {
   "cell_type": "code",
   "execution_count": 62,
   "id": "ab1c0bc7",
   "metadata": {},
   "outputs": [
    {
     "data": {
      "text/plain": [
       "4"
      ]
     },
     "execution_count": 62,
     "metadata": {},
     "output_type": "execute_result"
    }
   ],
   "source": [
    "b"
   ]
  },
  {
   "cell_type": "markdown",
   "id": "c6b26d76",
   "metadata": {},
   "source": [
    "#### ' += ' \n",
    "Adds 2 numbers and assigns the result to left operands a += b\n"
   ]
  },
  {
   "cell_type": "code",
   "execution_count": 63,
   "id": "bf031ea2",
   "metadata": {},
   "outputs": [],
   "source": [
    "a = 5\n",
    "b = 4\n",
    "a += b"
   ]
  },
  {
   "cell_type": "code",
   "execution_count": 64,
   "id": "ad451ab0",
   "metadata": {},
   "outputs": [
    {
     "data": {
      "text/plain": [
       "9"
      ]
     },
     "execution_count": 64,
     "metadata": {},
     "output_type": "execute_result"
    }
   ],
   "source": [
    "a"
   ]
  },
  {
   "cell_type": "code",
   "execution_count": 65,
   "id": "0c5ea4fe",
   "metadata": {},
   "outputs": [
    {
     "data": {
      "text/plain": [
       "4"
      ]
     },
     "execution_count": 65,
     "metadata": {},
     "output_type": "execute_result"
    }
   ],
   "source": [
    "b"
   ]
  },
  {
   "cell_type": "markdown",
   "id": "e2d52a80",
   "metadata": {},
   "source": [
    "#### ' /= ' \n",
    "Divides 2 numbers and assigns the result to left operand a /= b\n"
   ]
  },
  {
   "cell_type": "code",
   "execution_count": 66,
   "id": "9d1f2697",
   "metadata": {},
   "outputs": [],
   "source": [
    "a = 5\n",
    "b = 4\n",
    "a /= b"
   ]
  },
  {
   "cell_type": "code",
   "execution_count": 67,
   "id": "9b8af9be",
   "metadata": {},
   "outputs": [
    {
     "data": {
      "text/plain": [
       "1.25"
      ]
     },
     "execution_count": 67,
     "metadata": {},
     "output_type": "execute_result"
    }
   ],
   "source": [
    "a"
   ]
  },
  {
   "cell_type": "code",
   "execution_count": 68,
   "id": "f1e332ac",
   "metadata": {},
   "outputs": [
    {
     "data": {
      "text/plain": [
       "4"
      ]
     },
     "execution_count": 68,
     "metadata": {},
     "output_type": "execute_result"
    }
   ],
   "source": [
    "b"
   ]
  },
  {
   "cell_type": "markdown",
   "id": "0714ed4e",
   "metadata": {},
   "source": [
    "#### ' -= ' \n",
    "Subtracts two numbers and assigns the result to left operands a -= b\n"
   ]
  },
  {
   "cell_type": "code",
   "execution_count": 69,
   "id": "b47d5b59",
   "metadata": {},
   "outputs": [],
   "source": [
    "a = 5\n",
    "b = 4\n",
    "a -= b"
   ]
  },
  {
   "cell_type": "code",
   "execution_count": 70,
   "id": "cdd1dc07",
   "metadata": {},
   "outputs": [
    {
     "data": {
      "text/plain": [
       "1"
      ]
     },
     "execution_count": 70,
     "metadata": {},
     "output_type": "execute_result"
    }
   ],
   "source": [
    "a"
   ]
  },
  {
   "cell_type": "code",
   "execution_count": 71,
   "id": "d89de7f1",
   "metadata": {},
   "outputs": [
    {
     "data": {
      "text/plain": [
       "4"
      ]
     },
     "execution_count": 71,
     "metadata": {},
     "output_type": "execute_result"
    }
   ],
   "source": [
    "b"
   ]
  },
  {
   "cell_type": "markdown",
   "id": "fab6a2ef",
   "metadata": {},
   "source": [
    "#### ' *= ' \n",
    "Multiplys two numbers and assign the result a *= b\n"
   ]
  },
  {
   "cell_type": "code",
   "execution_count": 72,
   "id": "c7764ec4",
   "metadata": {},
   "outputs": [],
   "source": [
    "a = 5\n",
    "b = 4\n",
    "a *= b"
   ]
  },
  {
   "cell_type": "code",
   "execution_count": 73,
   "id": "edf04139",
   "metadata": {},
   "outputs": [
    {
     "data": {
      "text/plain": [
       "20"
      ]
     },
     "execution_count": 73,
     "metadata": {},
     "output_type": "execute_result"
    }
   ],
   "source": [
    "a"
   ]
  },
  {
   "cell_type": "code",
   "execution_count": 74,
   "id": "312cbc8a",
   "metadata": {},
   "outputs": [
    {
     "data": {
      "text/plain": [
       "4"
      ]
     },
     "execution_count": 74,
     "metadata": {},
     "output_type": "execute_result"
    }
   ],
   "source": [
    "b"
   ]
  },
  {
   "cell_type": "markdown",
   "id": "d12d8d10",
   "metadata": {},
   "source": [
    "#### ' %= ' \n",
    "Modulus two numbers and assign the result to left operands a %= b"
   ]
  },
  {
   "cell_type": "code",
   "execution_count": 75,
   "id": "a2a3ed71",
   "metadata": {},
   "outputs": [],
   "source": [
    "a = 5\n",
    "b = 4\n",
    "a %= b"
   ]
  },
  {
   "cell_type": "code",
   "execution_count": 76,
   "id": "cc4a8f44",
   "metadata": {},
   "outputs": [
    {
     "data": {
      "text/plain": [
       "1"
      ]
     },
     "execution_count": 76,
     "metadata": {},
     "output_type": "execute_result"
    }
   ],
   "source": [
    "a"
   ]
  },
  {
   "cell_type": "code",
   "execution_count": 77,
   "id": "be249c59",
   "metadata": {},
   "outputs": [
    {
     "data": {
      "text/plain": [
       "4"
      ]
     },
     "execution_count": 77,
     "metadata": {},
     "output_type": "execute_result"
    }
   ],
   "source": [
    "b"
   ]
  },
  {
   "cell_type": "markdown",
   "id": "1e3d36da",
   "metadata": {},
   "source": [
    "#### ' //= ' \n",
    "Performs floor division on two numbers and assign the result to left operands a //= b \n"
   ]
  },
  {
   "cell_type": "code",
   "execution_count": 78,
   "id": "56070184",
   "metadata": {},
   "outputs": [],
   "source": [
    "a = 5\n",
    "b = 4\n",
    "a //= b"
   ]
  },
  {
   "cell_type": "code",
   "execution_count": 79,
   "id": "386e50c5",
   "metadata": {},
   "outputs": [
    {
     "data": {
      "text/plain": [
       "1"
      ]
     },
     "execution_count": 79,
     "metadata": {},
     "output_type": "execute_result"
    }
   ],
   "source": [
    "a"
   ]
  },
  {
   "cell_type": "code",
   "execution_count": 80,
   "id": "9133f688",
   "metadata": {},
   "outputs": [
    {
     "data": {
      "text/plain": [
       "4"
      ]
     },
     "execution_count": 80,
     "metadata": {},
     "output_type": "execute_result"
    }
   ],
   "source": [
    "b"
   ]
  },
  {
   "cell_type": "markdown",
   "id": "2161de9c",
   "metadata": {},
   "source": [
    "#### ' **= ' \n",
    "Calculates power on operators and assigns the result to left operands a **= b\n"
   ]
  },
  {
   "cell_type": "code",
   "execution_count": 81,
   "id": "d87ceb6a",
   "metadata": {},
   "outputs": [],
   "source": [
    "a = 5\n",
    "b = 4\n",
    "a **= b"
   ]
  },
  {
   "cell_type": "code",
   "execution_count": 82,
   "id": "dc492e89",
   "metadata": {},
   "outputs": [
    {
     "data": {
      "text/plain": [
       "625"
      ]
     },
     "execution_count": 82,
     "metadata": {},
     "output_type": "execute_result"
    }
   ],
   "source": [
    "a"
   ]
  },
  {
   "cell_type": "code",
   "execution_count": 83,
   "id": "eb030d24",
   "metadata": {},
   "outputs": [
    {
     "data": {
      "text/plain": [
       "4"
      ]
     },
     "execution_count": 83,
     "metadata": {},
     "output_type": "execute_result"
    }
   ],
   "source": [
    "b"
   ]
  },
  {
   "cell_type": "markdown",
   "id": "0edf220a",
   "metadata": {},
   "source": [
    "### Logical Operators (LO)\n",
    "Logical operators are used to perform logical operations on the given 2 variables \n"
   ]
  },
  {
   "cell_type": "markdown",
   "id": "2ae7843d",
   "metadata": {},
   "source": [
    "1. 'and' returns true if both conditions are trueeg x and y\n",
    "2. 'or' return true if either or both condition are true x or y\n",
    "3. 'not' reverse the condition not(a>b)"
   ]
  },
  {
   "cell_type": "code",
   "execution_count": 84,
   "id": "0ae8a8ab",
   "metadata": {},
   "outputs": [
    {
     "name": "stdout",
     "output_type": "stream",
     "text": [
      "hello\n"
     ]
    }
   ],
   "source": [
    "a = 30\n",
    "b = 20\n",
    "if(a == 30 and b == 20):\n",
    "    print('hello')"
   ]
  },
  {
   "cell_type": "markdown",
   "id": "3c88c424",
   "metadata": {},
   "source": [
    "### Membership Operators (MO)\n",
    "MO in python are used to validate whether a value is found within a sequence such as strings, lists or tuples\n",
    "\n",
    "1. 'in' returns true if value exists in the sequence, else false a in list\n",
    "2. 'not in' return true if value doesn't exist in the sequence, else false a not in list\n"
   ]
  },
  {
   "cell_type": "code",
   "execution_count": 85,
   "id": "90e0ea9c",
   "metadata": {},
   "outputs": [
    {
     "name": "stdout",
     "output_type": "stream",
     "text": [
      "True\n",
      "False\n"
     ]
    }
   ],
   "source": [
    "a = 22\n",
    "listi = [22, 99, 27, 31]\n",
    "in_ans = a in listi\n",
    "notin_ans = a not in listi\n",
    "print(in_ans)\n",
    "print(notin_ans)"
   ]
  },
  {
   "cell_type": "markdown",
   "id": "0e9849a5",
   "metadata": {},
   "source": [
    "### Identity Operators (IO)\n",
    "\n",
    "IO in python compare the memory location of two objects\n",
    "1.'is' return true if two variables point the same object, else false  ' a is b'\n",
    "2. 'is not' return true if 2 variables point the different objects, else false\n",
    " 'a is not b'"
   ]
  },
  {
   "cell_type": "code",
   "execution_count": 86,
   "id": "8ea743e3",
   "metadata": {},
   "outputs": [
    {
     "name": "stdout",
     "output_type": "stream",
     "text": [
      " both a and b has same identity \n",
      "a and b has different identity\n"
     ]
    }
   ],
   "source": [
    "# eg\n",
    "a = 34\n",
    "b = 34\n",
    "\n",
    "if(a is b):\n",
    "    print(' both a and b has same identity ')\n",
    "else:\n",
    "    print('a and b has different identity')\n",
    "\n",
    "b = 99 # Changing the value of variable b\n",
    "\n",
    "if (a is b):\n",
    "    print(' both a and b has same identity ')\n",
    "else:\n",
    "    print('a and b has different identity')"
   ]
  },
  {
   "cell_type": "markdown",
   "id": "5816521b",
   "metadata": {},
   "source": [
    "## Variables in Python"
   ]
  },
  {
   "cell_type": "markdown",
   "id": "0aa21287",
   "metadata": {},
   "source": [
    "Variable is a name given to a memory location. A variable can consider as container which holds values. python is a \n",
    "type infer language that means you don't need to specify the datatype of variables."
   ]
  },
  {
   "cell_type": "markdown",
   "id": "71223b5b",
   "metadata": {},
   "source": [
    "### Assigning values to variable"
   ]
  },
  {
   "cell_type": "code",
   "execution_count": 87,
   "id": "38f35ec2",
   "metadata": {},
   "outputs": [
    {
     "name": "stdout",
     "output_type": "stream",
     "text": [
      "25.6\n"
     ]
    }
   ],
   "source": [
    "name = 'python' # String data type\n",
    "sume = None # A variable without value\n",
    "a = 23 # Integer \n",
    "b = 2.6 # Float\n",
    "sum = a + b\n",
    "print(sum)"
   ]
  },
  {
   "cell_type": "markdown",
   "id": "06fe304a",
   "metadata": {},
   "source": [
    "### Multiple assignment \n",
    "Assign a single value to many variables"
   ]
  },
  {
   "cell_type": "code",
   "execution_count": 88,
   "id": "47857cf7",
   "metadata": {},
   "outputs": [],
   "source": [
    "a = b = c = 1 # single value to multiple variables\n",
    "a = b = 1,2 # multiple values to multiple variables\n",
    "a,b = b,a # value of a is swaped "
   ]
  },
  {
   "cell_type": "markdown",
   "id": "77a42637",
   "metadata": {},
   "source": [
    "## Input and Output\n",
    "### print() \n",
    "Function in python is used to print output on the screen.\n",
    "Syntax of print function "
   ]
  },
  {
   "cell_type": "code",
   "execution_count": 89,
   "id": "63ba05aa",
   "metadata": {},
   "outputs": [
    {
     "name": "stdout",
     "output_type": "stream",
     "text": [
      "122\n"
     ]
    }
   ],
   "source": [
    "print(122)"
   ]
  },
  {
   "cell_type": "code",
   "execution_count": 90,
   "id": "983ee346",
   "metadata": {},
   "outputs": [
    {
     "name": "stdout",
     "output_type": "stream",
     "text": [
      "hello india\n"
     ]
    }
   ],
   "source": [
    "print('hello india')"
   ]
  },
  {
   "cell_type": "code",
   "execution_count": 91,
   "id": "3de1634c",
   "metadata": {},
   "outputs": [
    {
     "name": "stdout",
     "output_type": "stream",
     "text": [
      "computer science\n"
     ]
    }
   ],
   "source": [
    "print('computer', 'science')"
   ]
  },
  {
   "cell_type": "code",
   "execution_count": 92,
   "id": "a9bb8a56",
   "metadata": {},
   "outputs": [
    {
     "name": "stdout",
     "output_type": "stream",
     "text": [
      "computer & science\n"
     ]
    }
   ],
   "source": [
    "print('computer', 'science', sep = ' & ')"
   ]
  },
  {
   "cell_type": "code",
   "execution_count": 93,
   "id": "493ee2d8",
   "metadata": {},
   "outputs": [
    {
     "name": "stdout",
     "output_type": "stream",
     "text": [
      "computer & science."
     ]
    }
   ],
   "source": [
    "print('computer', 'science', sep = ' & ', end='.')"
   ]
  },
  {
   "cell_type": "markdown",
   "id": "aeffb062",
   "metadata": {},
   "source": [
    "## Introduction to Data Types in Python"
   ]
  },
  {
   "cell_type": "markdown",
   "id": "8ff0a604",
   "metadata": {},
   "source": [
    "Most of the computer programming languages a support data types \n",
    "Data type specifies which type of value a variable can store. dtype() function\n",
    "\n",
    "Data types in python:\n",
    "1. numbers\n",
    "2. string\n",
    "3. boolean\n",
    "4. list\n",
    "5. tuple\n",
    "6. set\n",
    "7. dictionaru"
   ]
  },
  {
   "cell_type": "markdown",
   "id": "90b49d0b",
   "metadata": {},
   "source": [
    "### Numbers in Python\n",
    "It is used to store numeric values\n",
    "\n",
    "Types of numeric values:\n",
    "\n",
    "1. integers\n",
    "2. floating/continuous\n",
    "3. complex numbers"
   ]
  },
  {
   "cell_type": "markdown",
   "id": "ca5dd132",
   "metadata": {},
   "source": [
    "#### Integers\n",
    "Integers or int are positive or negative numbers with no decimals"
   ]
  },
  {
   "cell_type": "code",
   "execution_count": 94,
   "id": "aa958180",
   "metadata": {},
   "outputs": [
    {
     "name": "stdout",
     "output_type": "stream",
     "text": [
      "100\n",
      "-200\n",
      "5\n"
     ]
    }
   ],
   "source": [
    "a = 100\n",
    "b = -200\n",
    "c = 1 * 5\n",
    "print(a)\n",
    "print(b)\n",
    "print(c)"
   ]
  },
  {
   "cell_type": "markdown",
   "id": "97001788",
   "metadata": {},
   "source": [
    "- Type conversion of integers. int() function converts any data types to integers\n"
   ]
  },
  {
   "cell_type": "code",
   "execution_count": 95,
   "id": "d1751f0c",
   "metadata": {},
   "outputs": [
    {
     "name": "stdout",
     "output_type": "stream",
     "text": [
      "101\n",
      "101\n",
      "22\n"
     ]
    }
   ],
   "source": [
    "a = \"101\" # string\n",
    "b = int(a) # converts string data type to integers\n",
    "c = int(22.4) # converts float data type to integer\n",
    "print(a)\n",
    "print(b)\n",
    "print(c)"
   ]
  },
  {
   "cell_type": "markdown",
   "id": "99a28fd1",
   "metadata": {},
   "source": [
    "#### Floating point numbers\n",
    "It is a positive and negative real numbers with decimal points"
   ]
  },
  {
   "cell_type": "code",
   "execution_count": 96,
   "id": "e2d91109",
   "metadata": {},
   "outputs": [
    {
     "data": {
      "text/plain": [
       "float"
      ]
     },
     "execution_count": 96,
     "metadata": {},
     "output_type": "execute_result"
    }
   ],
   "source": [
    "a = -101.2\n",
    "b = -102.5\n",
    "c = 11.23\n",
    "type(c)"
   ]
  },
  {
   "cell_type": "markdown",
   "id": "1ad540f6",
   "metadata": {},
   "source": [
    "- Type conversion of floating point numbers. float() function converts any data type to floating point numbers"
   ]
  },
  {
   "cell_type": "code",
   "execution_count": 97,
   "id": "bd876e79",
   "metadata": {
    "scrolled": true
   },
   "outputs": [
    {
     "name": "stdout",
     "output_type": "stream",
     "text": [
      "301.4\n",
      "122.0\n"
     ]
    }
   ],
   "source": [
    "a = '301.4' # string\n",
    "b = float(a) # converts string data type to float\n",
    "c = float(122) # converts integer data type to floating point number\n",
    "print(b)\n",
    "print(c)"
   ]
  },
  {
   "cell_type": "markdown",
   "id": "e2a0c73e",
   "metadata": {},
   "source": [
    "#### Complex numbers \n",
    "Complex numbers are combination of a real and imaginary part. \n",
    "Complex numbers are in the form of X +Yj, where X is a real part and Y is an imaginary part"
   ]
  },
  {
   "cell_type": "code",
   "execution_count": 98,
   "id": "970cb05d",
   "metadata": {},
   "outputs": [
    {
     "name": "stdout",
     "output_type": "stream",
     "text": [
      "(5+0j)\n"
     ]
    }
   ],
   "source": [
    "a = complex(5)\n",
    "print(a)"
   ]
  },
  {
   "cell_type": "code",
   "execution_count": 99,
   "id": "6bd7e2d1",
   "metadata": {},
   "outputs": [],
   "source": [
    "b = complex(101,23)"
   ]
  },
  {
   "cell_type": "code",
   "execution_count": 100,
   "id": "093e96e4",
   "metadata": {},
   "outputs": [
    {
     "name": "stdout",
     "output_type": "stream",
     "text": [
      "(101+23j)\n"
     ]
    }
   ],
   "source": [
    "print(b)"
   ]
  },
  {
   "cell_type": "markdown",
   "id": "2f72e42a",
   "metadata": {},
   "source": [
    "### Strings in Python\n",
    "A string is a sequence of a characters. In python we can create string using single (' ') or double(\" \")\n",
    "#### Creating a string\n"
   ]
  },
  {
   "cell_type": "code",
   "execution_count": 101,
   "id": "ffb0f04a",
   "metadata": {},
   "outputs": [
    {
     "name": "stdout",
     "output_type": "stream",
     "text": [
      "str- computer science\n"
     ]
    }
   ],
   "source": [
    "str = 'computer science'\n",
    "print('str-', str) # print string"
   ]
  },
  {
   "cell_type": "markdown",
   "id": "6d99004e",
   "metadata": {},
   "source": [
    "#### Indexing a string"
   ]
  },
  {
   "cell_type": "code",
   "execution_count": 102,
   "id": "dbdc50f1",
   "metadata": {},
   "outputs": [
    {
     "name": "stdout",
     "output_type": "stream",
     "text": [
      "str[0]- c\n"
     ]
    }
   ],
   "source": [
    "print('str[0]-', str[0]) # print first character 'c'"
   ]
  },
  {
   "cell_type": "code",
   "execution_count": 103,
   "id": "06afad60",
   "metadata": {},
   "outputs": [
    {
     "name": "stdout",
     "output_type": "stream",
     "text": [
      "str[1:3]- om\n"
     ]
    }
   ],
   "source": [
    "print('str[1:3]-', str[1:3]) # print string starting from 1 to 3"
   ]
  },
  {
   "cell_type": "code",
   "execution_count": 104,
   "id": "f1b0fac3",
   "metadata": {},
   "outputs": [
    {
     "name": "stdout",
     "output_type": "stream",
     "text": [
      "str[3:1]- puter science\n"
     ]
    }
   ],
   "source": [
    "print('str[3:1]-', str[3:]) # print string from 3rd"
   ]
  },
  {
   "cell_type": "markdown",
   "id": "de448793",
   "metadata": {},
   "source": [
    "#### Arithmetic with strings and positive integers"
   ]
  },
  {
   "cell_type": "code",
   "execution_count": 105,
   "id": "39d3f661",
   "metadata": {
    "scrolled": true
   },
   "outputs": [
    {
     "name": "stdout",
     "output_type": "stream",
     "text": [
      "str*2- computer sciencecomputer science\n"
     ]
    }
   ],
   "source": [
    "print('str*2-', str*2) # print string two times"
   ]
  },
  {
   "cell_type": "markdown",
   "id": "570b85b9",
   "metadata": {},
   "source": [
    "### Boolean in Python\n",
    "Used to store two possible values either true or false"
   ]
  },
  {
   "cell_type": "code",
   "execution_count": 106,
   "id": "13e794f9",
   "metadata": {},
   "outputs": [
    {
     "name": "stdout",
     "output_type": "stream",
     "text": [
      "False\n",
      "True\n"
     ]
    }
   ],
   "source": [
    "str = 'comp sc'\n",
    "bool = str.isupper()\n",
    "bal = str.islower()\n",
    "print(bool)\n",
    "print(bal)"
   ]
  },
  {
   "cell_type": "markdown",
   "id": "cf824510",
   "metadata": {},
   "source": [
    "### Lists in python\n",
    "Lists are collections of items and each item has its own index value"
   ]
  },
  {
   "cell_type": "code",
   "execution_count": 107,
   "id": "7104b352",
   "metadata": {
    "scrolled": true
   },
   "outputs": [
    {
     "name": "stdout",
     "output_type": "stream",
     "text": [
      "[6, 8]\n",
      "[55, 8]\n"
     ]
    }
   ],
   "source": [
    "listi = [6, 8]\n",
    "print(listi)\n",
    "listi[0] = 55\n",
    "print(listi)"
   ]
  },
  {
   "cell_type": "code",
   "execution_count": 108,
   "id": "cc6df6cf",
   "metadata": {},
   "outputs": [
    {
     "data": {
      "text/plain": [
       "[8, 10]"
      ]
     },
     "execution_count": 108,
     "metadata": {},
     "output_type": "execute_result"
    }
   ],
   "source": [
    "listi = [[5, 6],[8, 10]]\n",
    "listi[1]"
   ]
  },
  {
   "cell_type": "markdown",
   "id": "15bb3c37",
   "metadata": {},
   "source": [
    "# PYTHON (DAY 2)"
   ]
  },
  {
   "cell_type": "code",
   "execution_count": 109,
   "id": "3ded1b17",
   "metadata": {},
   "outputs": [
    {
     "data": {
      "text/plain": [
       "7"
      ]
     },
     "execution_count": 109,
     "metadata": {},
     "output_type": "execute_result"
    }
   ],
   "source": [
    "2+5"
   ]
  },
  {
   "cell_type": "code",
   "execution_count": 110,
   "id": "5697ea4f",
   "metadata": {},
   "outputs": [
    {
     "name": "stdout",
     "output_type": "stream",
     "text": [
      "Onyango\n"
     ]
    }
   ],
   "source": [
    "def myfun(fname):\n",
    "    print(fname)\n",
    "myfun(\"Onyango\")"
   ]
  },
  {
   "cell_type": "code",
   "execution_count": 111,
   "id": "d9adb7bf",
   "metadata": {},
   "outputs": [
    {
     "name": "stdout",
     "output_type": "stream",
     "text": [
      "Wyclife Agumba\n"
     ]
    }
   ],
   "source": [
    "def my_function(fname, lname):\n",
    "    print(fname + \" \" + lname)\n",
    "my_function(\"Wyclife\", \"Agumba\")"
   ]
  },
  {
   "cell_type": "code",
   "execution_count": 112,
   "id": "b8fab2e2",
   "metadata": {},
   "outputs": [
    {
     "name": "stdout",
     "output_type": "stream",
     "text": [
      "15\n",
      "25\n",
      "45\n"
     ]
    }
   ],
   "source": [
    "def my_function(x):\n",
    "    return 5 * x\n",
    "print(my_function(3))\n",
    "print(my_function(5))\n",
    "print(my_function(9))"
   ]
  },
  {
   "cell_type": "code",
   "execution_count": 113,
   "id": "30dc301c",
   "metadata": {},
   "outputs": [
    {
     "name": "stdout",
     "output_type": "stream",
     "text": [
      "Here is the calendar:\n",
      "    January 2022\n",
      "Mo Tu We Th Fr Sa Su\n",
      "                1  2\n",
      " 3  4  5  6  7  8  9\n",
      "10 11 12 13 14 15 16\n",
      "17 18 19 20 21 22 23\n",
      "24 25 26 27 28 29 30\n",
      "31\n",
      "\n",
      "3.141592653589793\n",
      "<built-in function pow>\n"
     ]
    }
   ],
   "source": [
    "import calendar\n",
    "cal = calendar.month(2022, 1)\n",
    "print(\"Here is the calendar:\")\n",
    "print(cal)\n",
    "import math\n",
    "print(math.pi)\n",
    "print(math.pow)"
   ]
  },
  {
   "cell_type": "code",
   "execution_count": 114,
   "id": "988570a1",
   "metadata": {},
   "outputs": [],
   "source": [
    "import math"
   ]
  },
  {
   "cell_type": "code",
   "execution_count": 115,
   "id": "76175333",
   "metadata": {},
   "outputs": [
    {
     "name": "stdout",
     "output_type": "stream",
     "text": [
      "3.141592653589793\n"
     ]
    }
   ],
   "source": [
    "print(math.pi)"
   ]
  },
  {
   "cell_type": "code",
   "execution_count": 116,
   "id": "eae56117",
   "metadata": {},
   "outputs": [
    {
     "name": "stdout",
     "output_type": "stream",
     "text": [
      "32.0\n"
     ]
    }
   ],
   "source": [
    "print(math.pow(2,5))"
   ]
  },
  {
   "cell_type": "code",
   "execution_count": 117,
   "id": "77920da3",
   "metadata": {},
   "outputs": [
    {
     "name": "stdout",
     "output_type": "stream",
     "text": [
      "720\n"
     ]
    }
   ],
   "source": [
    "print(math.factorial(6))"
   ]
  },
  {
   "cell_type": "code",
   "execution_count": 118,
   "id": "8881a3a6",
   "metadata": {},
   "outputs": [],
   "source": [
    "li = \"how are you\""
   ]
  },
  {
   "cell_type": "code",
   "execution_count": 119,
   "id": "3b748dab",
   "metadata": {},
   "outputs": [
    {
     "name": "stdout",
     "output_type": "stream",
     "text": [
      "4\n"
     ]
    }
   ],
   "source": [
    "print(li.find(\"are\"))"
   ]
  },
  {
   "cell_type": "markdown",
   "id": "fc76fd71",
   "metadata": {},
   "source": [
    "# PYTHON (DAY 3): Numpy"
   ]
  },
  {
   "cell_type": "markdown",
   "id": "79c1ee03",
   "metadata": {},
   "source": [
    "## What is numpy"
   ]
  },
  {
   "cell_type": "code",
   "execution_count": 120,
   "id": "7b6a18dc",
   "metadata": {},
   "outputs": [],
   "source": [
    "# High level mathematical computations...many maths functions\n",
    "# multidimensional arrays and matrices\n",
    "# works with n-dimensional arrays\n",
    "# basic linear algebra functions\n",
    "# basic fourier transforms\n",
    "# sophisticated random number capabilities\n",
    "# Integrating so many platforms like C++ Fortran etc"
   ]
  },
  {
   "cell_type": "code",
   "execution_count": 121,
   "id": "2a2eef56",
   "metadata": {},
   "outputs": [
    {
     "name": "stdout",
     "output_type": "stream",
     "text": [
      "[1 2 3]\n"
     ]
    }
   ],
   "source": [
    "import random as r\n",
    "import numpy as np\n",
    "a = np.array([1, 2, 3]) # One dimensional array\n",
    "print(a)"
   ]
  },
  {
   "cell_type": "code",
   "execution_count": 122,
   "id": "bd9da9eb",
   "metadata": {},
   "outputs": [
    {
     "name": "stdout",
     "output_type": "stream",
     "text": [
      "[46 18 57 58 68 50 67 98 66 20 30 80 47 78 56 54 86 79 32 37]\n"
     ]
    }
   ],
   "source": [
    "b = np.array(r.sample(range(10, 100), 20), ndmin = 1)\n",
    "print(b)"
   ]
  },
  {
   "cell_type": "code",
   "execution_count": 123,
   "id": "b06d936a",
   "metadata": {},
   "outputs": [
    {
     "name": "stdout",
     "output_type": "stream",
     "text": [
      "[[67 28 89 56 15 46 96 62 57 52 14 65 44 39 82 59 51 64 93 94]]\n"
     ]
    }
   ],
   "source": [
    "b = np.array(r.sample(range(10, 100), 20), ndmin = 2)\n",
    "print(b)"
   ]
  },
  {
   "cell_type": "code",
   "execution_count": 124,
   "id": "e91df03f",
   "metadata": {},
   "outputs": [
    {
     "name": "stdout",
     "output_type": "stream",
     "text": [
      "[[[57 11 49 88 14 68 84 71 20 87 52 72 48 80 65 46 75 81 63 70]]]\n"
     ]
    }
   ],
   "source": [
    "b = np.array(r.sample(range(10, 100), 20), ndmin = 3)\n",
    "print(b)"
   ]
  },
  {
   "cell_type": "code",
   "execution_count": 125,
   "id": "490a1c28",
   "metadata": {},
   "outputs": [
    {
     "name": "stdout",
     "output_type": "stream",
     "text": [
      "[[[ 1  2  3]\n",
      "  [ 4  5  6]\n",
      "  [ 7  8  9]\n",
      "  [10 11 12]]]\n"
     ]
    }
   ],
   "source": [
    "a = np.array([[[1, 2, 3], [4,5,6], [7,8,9], [10, 11, 12]]])\n",
    "print(a)"
   ]
  },
  {
   "cell_type": "code",
   "execution_count": 126,
   "id": "b69cb55f",
   "metadata": {},
   "outputs": [
    {
     "name": "stdout",
     "output_type": "stream",
     "text": [
      "6\n"
     ]
    }
   ],
   "source": [
    "a = np.array([1, 2, 3, 4, 5, 6,7])\n",
    "print(a[5])"
   ]
  },
  {
   "cell_type": "code",
   "execution_count": 127,
   "id": "df6d8e68",
   "metadata": {},
   "outputs": [
    {
     "name": "stdout",
     "output_type": "stream",
     "text": [
      "[3 4]\n"
     ]
    }
   ],
   "source": [
    "print(a[2:4])"
   ]
  },
  {
   "cell_type": "code",
   "execution_count": 128,
   "id": "8e54c8bb",
   "metadata": {},
   "outputs": [
    {
     "name": "stdout",
     "output_type": "stream",
     "text": [
      "7\n"
     ]
    }
   ],
   "source": [
    "a = np.array([[1, 2, 3], [4,5,7]])\n",
    "print(a[1][2])"
   ]
  },
  {
   "cell_type": "code",
   "execution_count": 129,
   "id": "a243d157",
   "metadata": {},
   "outputs": [
    {
     "name": "stdout",
     "output_type": "stream",
     "text": [
      "[0 0 0 0 0 0 0 0 0 0]\n"
     ]
    }
   ],
   "source": [
    "x = np.zeros(10, dtype = int)\n",
    "print(x)"
   ]
  },
  {
   "cell_type": "code",
   "execution_count": 130,
   "id": "a9a1c75a",
   "metadata": {},
   "outputs": [
    {
     "name": "stdout",
     "output_type": "stream",
     "text": [
      "[0. 0. 0. 0. 0. 0. 0. 0. 0. 0.]\n"
     ]
    }
   ],
   "source": [
    "x = np.zeros(10, dtype = float)\n",
    "print(x)"
   ]
  },
  {
   "cell_type": "code",
   "execution_count": 131,
   "id": "ef69f91b",
   "metadata": {},
   "outputs": [
    {
     "name": "stdout",
     "output_type": "stream",
     "text": [
      "\n",
      "Zero Array of 5,5 char -->\n",
      " [[0. 0.]\n",
      " [0. 0.]]\n"
     ]
    }
   ],
   "source": [
    "x = np.zeros((2,2), dtype = float)\n",
    "print(\"\\nZero Array of 5,5 char -->\\n\", x)"
   ]
  },
  {
   "cell_type": "code",
   "execution_count": 132,
   "id": "c41a1a01",
   "metadata": {},
   "outputs": [
    {
     "name": "stdout",
     "output_type": "stream",
     "text": [
      "Ones Array -->\n",
      " [1. 1. 1. 1. 1.]\n"
     ]
    }
   ],
   "source": [
    "x = np.ones(5)\n",
    "print(\"Ones Array -->\\n\", x)"
   ]
  },
  {
   "cell_type": "code",
   "execution_count": 133,
   "id": "acd25f1e",
   "metadata": {},
   "outputs": [
    {
     "name": "stdout",
     "output_type": "stream",
     "text": [
      "Ones Array -->\n",
      " [[1 1 1 1 1]\n",
      " [1 1 1 1 1]\n",
      " [1 1 1 1 1]\n",
      " [1 1 1 1 1]\n",
      " [1 1 1 1 1]]\n"
     ]
    }
   ],
   "source": [
    "x = np.ones((5,5), dtype=int)\n",
    "print(\"Ones Array -->\\n\", x)"
   ]
  },
  {
   "cell_type": "markdown",
   "id": "be0f1faf",
   "metadata": {},
   "source": [
    "## Array for numerical ranges"
   ]
  },
  {
   "cell_type": "code",
   "execution_count": 134,
   "id": "b82f2605",
   "metadata": {},
   "outputs": [
    {
     "name": "stdout",
     "output_type": "stream",
     "text": [
      "\n",
      "Array  -->\n",
      " [10 12 14 16 18]\n"
     ]
    }
   ],
   "source": [
    "x = np.arange(10, 20, 2)\n",
    "print(\"\\nArray  -->\\n\", x)"
   ]
  },
  {
   "cell_type": "code",
   "execution_count": 135,
   "id": "e40372b1",
   "metadata": {},
   "outputs": [
    {
     "name": "stdout",
     "output_type": "stream",
     "text": [
      "\n",
      "Array  -->\n",
      " [10 11 12 13 14 15 16 17 18 19]\n"
     ]
    }
   ],
   "source": [
    "x = np.arange(10, 20)\n",
    "print(\"\\nArray  -->\\n\", x)"
   ]
  },
  {
   "cell_type": "code",
   "execution_count": 136,
   "id": "17d5268b",
   "metadata": {},
   "outputs": [
    {
     "name": "stdout",
     "output_type": "stream",
     "text": [
      "\n",
      "Array  -->\n",
      " [10 12 14 16 18]\n"
     ]
    }
   ],
   "source": [
    "x = np.arange(10, 20, 2)\n",
    "print(\"\\nArray  -->\\n\", x)"
   ]
  },
  {
   "cell_type": "code",
   "execution_count": 137,
   "id": "9681b5fc",
   "metadata": {},
   "outputs": [
    {
     "name": "stdout",
     "output_type": "stream",
     "text": [
      "\n",
      "Array  -->\n",
      " [10 13 16 19]\n"
     ]
    }
   ],
   "source": [
    "x = np.arange(10, 20, 3)\n",
    "print(\"\\nArray  -->\\n\", x)"
   ]
  },
  {
   "cell_type": "code",
   "execution_count": 138,
   "id": "12e234eb",
   "metadata": {},
   "outputs": [
    {
     "name": "stdout",
     "output_type": "stream",
     "text": [
      "\n",
      "Array  -->\n",
      " [10 14 18]\n"
     ]
    }
   ],
   "source": [
    "x = np.arange(10, 20, 4)\n",
    "print(\"\\nArray  -->\\n\", x)"
   ]
  },
  {
   "cell_type": "code",
   "execution_count": 139,
   "id": "98209fa0",
   "metadata": {},
   "outputs": [
    {
     "name": "stdout",
     "output_type": "stream",
     "text": [
      "\n",
      "Array  -->\n",
      " [10 14 18]\n"
     ]
    }
   ],
   "source": [
    "x = np.arange(10, 22, 4)\n",
    "print(\"\\nArray  -->\\n\", x)"
   ]
  },
  {
   "cell_type": "markdown",
   "id": "2e825a64",
   "metadata": {},
   "source": [
    "## Slicing: Sclice"
   ]
  },
  {
   "cell_type": "code",
   "execution_count": 140,
   "id": "935740aa",
   "metadata": {},
   "outputs": [
    {
     "name": "stdout",
     "output_type": "stream",
     "text": [
      "\n",
      " Slice \n",
      " slice(2, 7, 2)\n",
      "[2 4 6]\n"
     ]
    }
   ],
   "source": [
    "a = np.arange(15)\n",
    "s = slice(2, 7, 2)\n",
    "print(\"\\n Slice \\n\", s)\n",
    "print(a[s])"
   ]
  },
  {
   "cell_type": "code",
   "execution_count": 141,
   "id": "47cc7ac8",
   "metadata": {},
   "outputs": [
    {
     "name": "stdout",
     "output_type": "stream",
     "text": [
      "\n",
      " Slice \n",
      " slice(2, 10, 2)\n",
      "[2 4 6 8]\n"
     ]
    }
   ],
   "source": [
    "a = np.arange(15)\n",
    "s = slice(2, 10, 2)\n",
    "print(\"\\n Slice \\n\", s)\n",
    "print(a[s])"
   ]
  },
  {
   "cell_type": "code",
   "execution_count": 142,
   "id": "63deed15",
   "metadata": {},
   "outputs": [
    {
     "name": "stdout",
     "output_type": "stream",
     "text": [
      "\n",
      " Slice \n",
      " slice(5, 10, 3)\n",
      "[5 8]\n"
     ]
    }
   ],
   "source": [
    "a = np.arange(15)\n",
    "s = slice(5, 10, 3)\n",
    "print(\"\\n Slice \\n\", s)\n",
    "print(a[s])"
   ]
  },
  {
   "cell_type": "code",
   "execution_count": 143,
   "id": "7bb2e423",
   "metadata": {},
   "outputs": [
    {
     "name": "stdout",
     "output_type": "stream",
     "text": [
      "\n",
      " Slice \n",
      " slice(5, 10, 3)\n",
      "[5 8]\n"
     ]
    }
   ],
   "source": [
    "a = np.arange(15)\n",
    "s = slice(5, 10, 3)\n",
    "print(\"\\n Slice \\n\", s)\n",
    "print(a[s])"
   ]
  },
  {
   "cell_type": "markdown",
   "id": "725330e1",
   "metadata": {},
   "source": [
    "## Indexing"
   ]
  },
  {
   "cell_type": "code",
   "execution_count": 144,
   "id": "38ff483c",
   "metadata": {},
   "outputs": [
    {
     "name": "stdout",
     "output_type": "stream",
     "text": [
      "[2 4 5]\n",
      "[3 4 5]\n",
      "[[2 3]\n",
      " [4 5]\n",
      " [5 6]]\n"
     ]
    }
   ],
   "source": [
    "a = np.array([[1,2,3],[3,4,5],[4,5,6]])\n",
    "print(a[...,1])\n",
    "print(a[1,...])\n",
    "print(a[...,1:])"
   ]
  },
  {
   "cell_type": "code",
   "execution_count": 145,
   "id": "d6cecf2c",
   "metadata": {},
   "outputs": [
    {
     "name": "stdout",
     "output_type": "stream",
     "text": [
      "[2. 4. 5.]\n",
      "[3. 4. 5. 7.]\n",
      "[[3. 7.]\n",
      " [5. 7.]\n",
      " [6. 7.]]\n"
     ]
    }
   ],
   "source": [
    "a = np.array([[1,2,3.,7],[3,4,5,7],[4,5,6,7]])\n",
    "print(a[...,1])\n",
    "print(a[1,...])\n",
    "print(a[...,2:])"
   ]
  },
  {
   "cell_type": "code",
   "execution_count": 146,
   "id": "1725b33f",
   "metadata": {},
   "outputs": [
    {
     "name": "stdout",
     "output_type": "stream",
     "text": [
      "[[4. 5. 6. 7.]]\n"
     ]
    }
   ],
   "source": [
    "print(a[2:,...])"
   ]
  },
  {
   "cell_type": "code",
   "execution_count": 147,
   "id": "c980838b",
   "metadata": {},
   "outputs": [
    {
     "name": "stdout",
     "output_type": "stream",
     "text": [
      "[[3. 4. 5. 7.]\n",
      " [4. 5. 6. 7.]]\n"
     ]
    }
   ],
   "source": [
    "print(a[1:,...])"
   ]
  },
  {
   "cell_type": "markdown",
   "id": "cd046939",
   "metadata": {},
   "source": [
    "## Multiplication"
   ]
  },
  {
   "cell_type": "code",
   "execution_count": 150,
   "id": "b1182453",
   "metadata": {},
   "outputs": [
    {
     "ename": "ModuleNotFoundError",
     "evalue": "No module named 'pytorch'",
     "output_type": "error",
     "traceback": [
      "\u001b[1;31m---------------------------------------------------------------------------\u001b[0m",
      "\u001b[1;31mModuleNotFoundError\u001b[0m                       Traceback (most recent call last)",
      "\u001b[1;32mC:\\WINDOWS\\TEMP/ipykernel_5160/1127999632.py\u001b[0m in \u001b[0;36m<module>\u001b[1;34m\u001b[0m\n\u001b[1;32m----> 1\u001b[1;33m \u001b[1;32mimport\u001b[0m \u001b[0mpytorch\u001b[0m \u001b[1;32mas\u001b[0m \u001b[0mgpd\u001b[0m\u001b[1;33m\u001b[0m\u001b[1;33m\u001b[0m\u001b[0m\n\u001b[0m",
      "\u001b[1;31mModuleNotFoundError\u001b[0m: No module named 'pytorch'"
     ]
    }
   ],
   "source": [
    "import tensor as gpd"
   ]
  },
  {
   "cell_type": "code",
   "execution_count": null,
   "id": "65674c80",
   "metadata": {},
   "outputs": [],
   "source": [
    "a = np.array([1,2,3,4])\n",
    "b = np.array([10, 11, 12, 13])\n",
    "c = a * b\n",
    "print(c)"
   ]
  },
  {
   "cell_type": "code",
   "execution_count": null,
   "id": "a35cb5e4",
   "metadata": {},
   "outputs": [],
   "source": [
    "a = np.arange(0,60,5)\n",
    "a = a.reshape(3,4)\n",
    "print('Original array is:')\n",
    "print(a)"
   ]
  },
  {
   "cell_type": "code",
   "execution_count": null,
   "id": "68faed03",
   "metadata": {},
   "outputs": [],
   "source": [
    "print('\\nModified array is:')\n",
    "for x in np.nditer(a):\n",
    "    print(x)\n"
   ]
  },
  {
   "cell_type": "code",
   "execution_count": null,
   "id": "dfed6460",
   "metadata": {},
   "outputs": [],
   "source": [
    "a = np.arange(0,60,5)\n",
    "a = a.reshape(2,3,2)\n",
    "print('Original array is:')\n",
    "print(a)"
   ]
  },
  {
   "cell_type": "code",
   "execution_count": null,
   "id": "44c29bc3",
   "metadata": {},
   "outputs": [],
   "source": [
    "print('\\nModified array is:')\n",
    "for x in np.nditer(a):\n",
    "    print(x)"
   ]
  },
  {
   "cell_type": "markdown",
   "id": "a349e140",
   "metadata": {},
   "source": [
    "## Statistical functions"
   ]
  },
  {
   "cell_type": "code",
   "execution_count": null,
   "id": "65b234df",
   "metadata": {},
   "outputs": [],
   "source": [
    "a = np.array([[1,2,3],[3,4,5],[4,5,6]])\n",
    "print(np.median(a))"
   ]
  },
  {
   "cell_type": "code",
   "execution_count": null,
   "id": "18730620",
   "metadata": {},
   "outputs": [],
   "source": [
    "a = np.array([[1,2,3],[3,4,5],[4,5,6]])\n",
    "print(np.median(a, axis=0))"
   ]
  },
  {
   "cell_type": "code",
   "execution_count": null,
   "id": "6478346c",
   "metadata": {},
   "outputs": [],
   "source": [
    "a = np.array([[1,2,3],[3,4,5],[4,5,6]])\n",
    "print(np.median(a, axis=1))"
   ]
  },
  {
   "cell_type": "code",
   "execution_count": null,
   "id": "655434af",
   "metadata": {},
   "outputs": [],
   "source": [
    "a = np.array([[1,2,3],[3,4,5],[4,5,6]])\n",
    "print(np.mean(a, axis=0))"
   ]
  },
  {
   "cell_type": "code",
   "execution_count": null,
   "id": "53542606",
   "metadata": {},
   "outputs": [],
   "source": [
    "a = np.array([[1,2,3],[3,4,5],[4,5,6]])\n",
    "print(np.mean(a, axis=1))"
   ]
  },
  {
   "cell_type": "code",
   "execution_count": null,
   "id": "d9faac08",
   "metadata": {},
   "outputs": [],
   "source": [
    "a = np.array([[1,2,3],[3,4,5],[4,5,6]])\n",
    "print(np.average(a, axis=0))"
   ]
  },
  {
   "cell_type": "code",
   "execution_count": null,
   "id": "096959da",
   "metadata": {},
   "outputs": [],
   "source": [
    "a = np.array([[1,2,3],[3,4,5],[4,5,6]])\n",
    "print(np.std(a, axis=0))"
   ]
  },
  {
   "cell_type": "markdown",
   "id": "1dbe4cdb",
   "metadata": {},
   "source": [
    "## np.where"
   ]
  },
  {
   "cell_type": "code",
   "execution_count": null,
   "id": "0ca2c9e7",
   "metadata": {},
   "outputs": [],
   "source": [
    "x = np.arange(9.).reshape(3,3)\n",
    "print(x)"
   ]
  },
  {
   "cell_type": "code",
   "execution_count": null,
   "id": "73033ab0",
   "metadata": {},
   "outputs": [],
   "source": [
    "y = np.where(x > 3)\n",
    "print(y)"
   ]
  },
  {
   "cell_type": "code",
   "execution_count": null,
   "id": "b9f97d5c",
   "metadata": {},
   "outputs": [],
   "source": [
    "print(x[y])"
   ]
  },
  {
   "cell_type": "code",
   "execution_count": null,
   "id": "244b37d9",
   "metadata": {},
   "outputs": [],
   "source": [
    "x = np.arange(9.).reshape(3,3)\n",
    "print(x)\n",
    "condition = np.mod(x,2) == 0\n",
    "print(condition)\n",
    "print(np.extract(condition, x))"
   ]
  },
  {
   "cell_type": "markdown",
   "id": "5b09d6ba",
   "metadata": {},
   "source": []
  },
  {
   "cell_type": "markdown",
   "id": "609c28bd",
   "metadata": {},
   "source": [
    "# PYTHON (DAY 4):-"
   ]
  },
  {
   "cell_type": "code",
   "execution_count": null,
   "id": "6bf0aa15",
   "metadata": {},
   "outputs": [],
   "source": [
    "# PANDAS open source library for data analysis \n"
   ]
  },
  {
   "cell_type": "code",
   "execution_count": null,
   "id": "f28efb25",
   "metadata": {},
   "outputs": [],
   "source": [
    "# The series - declaring series\n",
    "# selecting the internal elements\n",
    "# assigning vslues to elements\n",
    "# defining a series\n",
    "# filtering values\n",
    "# operations\n",
    "# evaluating values\n",
    "# NaN values"
   ]
  },
  {
   "cell_type": "code",
   "execution_count": null,
   "id": "bd3985cd",
   "metadata": {},
   "outputs": [],
   "source": [
    "import numpy as np\n",
    "import pandas as pd"
   ]
  },
  {
   "cell_type": "code",
   "execution_count": null,
   "id": "797d65ba",
   "metadata": {},
   "outputs": [],
   "source": [
    "# Series minus one\n",
    "s = pd.Series([7, 'Heisenberg', 3.14, -1789710578, 'Happy Eating!'])"
   ]
  },
  {
   "cell_type": "code",
   "execution_count": null,
   "id": "26413885",
   "metadata": {},
   "outputs": [],
   "source": [
    "a = pd.Series(np.random.randn(5), index = [\"a\", \"b\", \"c\", \"d\", \"e\"])\n",
    "a"
   ]
  },
  {
   "cell_type": "code",
   "execution_count": null,
   "id": "7171d5ee",
   "metadata": {},
   "outputs": [],
   "source": [
    "s = pd.Series([7, 'Heisenberg', 3.14, -1789710578, 'Happy Eating!'], index = ['A', 'Y', 'C', 'Z', 'E'])\n",
    "s"
   ]
  },
  {
   "cell_type": "code",
   "execution_count": null,
   "id": "e80781ec",
   "metadata": {},
   "outputs": [],
   "source": [
    "s.index"
   ]
  },
  {
   "cell_type": "code",
   "execution_count": null,
   "id": "a9ba9ad7",
   "metadata": {},
   "outputs": [],
   "source": [
    "a.index"
   ]
  },
  {
   "cell_type": "code",
   "execution_count": null,
   "id": "2c5e377b",
   "metadata": {},
   "outputs": [],
   "source": [
    "d = {\"b\": 1, \"a\":0, \"c\": 2}\n",
    "pd.Series(d)"
   ]
  },
  {
   "cell_type": "code",
   "execution_count": null,
   "id": "1f7fed2a",
   "metadata": {},
   "outputs": [],
   "source": [
    "d = {\"b\": 1.0, \"a\": 8.80, \"c\": 2.45}\n",
    "pd.Series(d)\n"
   ]
  },
  {
   "cell_type": "code",
   "execution_count": null,
   "id": "e23a1fd9",
   "metadata": {},
   "outputs": [],
   "source": [
    "pd.Series(d)\n",
    "d['b']"
   ]
  },
  {
   "cell_type": "code",
   "execution_count": null,
   "id": "20035159",
   "metadata": {},
   "outputs": [],
   "source": [
    "# Indexing with boolean values"
   ]
  },
  {
   "cell_type": "code",
   "execution_count": null,
   "id": "8cd476e2",
   "metadata": {},
   "outputs": [],
   "source": [
    "# Dataframes"
   ]
  },
  {
   "cell_type": "code",
   "execution_count": null,
   "id": "60b7443a",
   "metadata": {},
   "outputs": [],
   "source": [
    "b = np.array([1, 2, 3, 4, 5])\n",
    "b[4]"
   ]
  },
  {
   "cell_type": "code",
   "execution_count": null,
   "id": "b1f49285",
   "metadata": {},
   "outputs": [],
   "source": [
    "arr = np.arange(10)\n",
    "arr"
   ]
  },
  {
   "cell_type": "code",
   "execution_count": null,
   "id": "b4a3d25a",
   "metadata": {},
   "outputs": [],
   "source": [
    "arr[5]"
   ]
  },
  {
   "cell_type": "code",
   "execution_count": null,
   "id": "3ae81c21",
   "metadata": {},
   "outputs": [],
   "source": [
    "arr[5:8] # Does not include the eight element"
   ]
  },
  {
   "cell_type": "code",
   "execution_count": null,
   "id": "26c3d9aa",
   "metadata": {},
   "outputs": [],
   "source": [
    "arr[:4] # First four elements"
   ]
  },
  {
   "cell_type": "code",
   "execution_count": null,
   "id": "c5512c2f",
   "metadata": {},
   "outputs": [],
   "source": [
    "arr[5:] # From fifth to the last element"
   ]
  },
  {
   "cell_type": "code",
   "execution_count": null,
   "id": "826c79a9",
   "metadata": {},
   "outputs": [],
   "source": [
    "arr[7:9] = 10\n",
    "arr"
   ]
  },
  {
   "cell_type": "code",
   "execution_count": null,
   "id": "c62edf91",
   "metadata": {},
   "outputs": [],
   "source": [
    "arr2d =  np.array([[1,2,3], [4,5,6], [7,8,9]])\n",
    "arr2d"
   ]
  },
  {
   "cell_type": "code",
   "execution_count": null,
   "id": "6623cde7",
   "metadata": {},
   "outputs": [],
   "source": [
    "arr2d =  np.array([[10,23], [26,89]])\n",
    "\n",
    "arr2d[1]"
   ]
  },
  {
   "cell_type": "code",
   "execution_count": null,
   "id": "277b2081",
   "metadata": {},
   "outputs": [],
   "source": [
    "arr2d =  np.array([[10,23], [26,89]])\n",
    "\n",
    "arr2d[0,1]"
   ]
  },
  {
   "cell_type": "code",
   "execution_count": null,
   "id": "cc38d5e2",
   "metadata": {},
   "outputs": [],
   "source": [
    "arr2d =  np.array([[10,23], [26,89]])\n",
    "\n",
    "arr2d[1,0]"
   ]
  },
  {
   "cell_type": "code",
   "execution_count": null,
   "id": "9bba4d45",
   "metadata": {},
   "outputs": [],
   "source": [
    "arr2d =  np.array([[10,23], [26,89]])\n",
    "\n",
    "arr2d[1,1]"
   ]
  },
  {
   "cell_type": "code",
   "execution_count": null,
   "id": "03933b5c",
   "metadata": {},
   "outputs": [],
   "source": [
    "arr[1:6]"
   ]
  },
  {
   "cell_type": "code",
   "execution_count": null,
   "id": "8b97198a",
   "metadata": {},
   "outputs": [],
   "source": [
    "arr2d[1, :2]"
   ]
  },
  {
   "cell_type": "code",
   "execution_count": null,
   "id": "5d2f0b92",
   "metadata": {},
   "outputs": [],
   "source": [
    "# Boolean\n",
    "names = np.array([\"Bob\", \"Joe\", \"Will\", \"Bob\", \"Will\", \"Joe\", \"Joe\"])\n",
    "names"
   ]
  },
  {
   "cell_type": "code",
   "execution_count": null,
   "id": "0f564eb6",
   "metadata": {},
   "outputs": [],
   "source": [
    "data = np.random.randn(7, 4)\n",
    "data"
   ]
  },
  {
   "cell_type": "code",
   "execution_count": null,
   "id": "b4009e7d",
   "metadata": {},
   "outputs": [],
   "source": [
    "arr = np.arange(16).reshape(2,2,4)\n",
    "arr"
   ]
  },
  {
   "cell_type": "code",
   "execution_count": null,
   "id": "1535ce43",
   "metadata": {},
   "outputs": [],
   "source": [
    "arr.transpose((1,0,2))\n",
    "arr"
   ]
  },
  {
   "cell_type": "code",
   "execution_count": null,
   "id": "5c8de277",
   "metadata": {},
   "outputs": [],
   "source": [
    "data = 25\n",
    "s = np.sqrt(data)\n",
    "s\n",
    "p = np.exp(s)\n",
    "p"
   ]
  },
  {
   "cell_type": "code",
   "execution_count": null,
   "id": "410db583",
   "metadata": {},
   "outputs": [],
   "source": [
    "np.tan(data)"
   ]
  },
  {
   "cell_type": "code",
   "execution_count": null,
   "id": "1f2a13dc",
   "metadata": {},
   "outputs": [],
   "source": [
    "np.tan(30)"
   ]
  },
  {
   "cell_type": "code",
   "execution_count": null,
   "id": "7eb5643a",
   "metadata": {},
   "outputs": [],
   "source": [
    "# Selecting the internal elements of a data frame"
   ]
  },
  {
   "cell_type": "code",
   "execution_count": null,
   "id": "9c73580d",
   "metadata": {},
   "outputs": [],
   "source": [
    "# Reading data"
   ]
  },
  {
   "cell_type": "code",
   "execution_count": null,
   "id": "ceb8a3b9",
   "metadata": {},
   "outputs": [],
   "source": [
    "data = pd.read_csv('/home/wycology/Downloads/pandasss.csv')\n",
    "data.head()"
   ]
  },
  {
   "cell_type": "markdown",
   "id": "595fad0a",
   "metadata": {},
   "source": [
    "# PYTHON (DAY 5):-"
   ]
  },
  {
   "cell_type": "code",
   "execution_count": null,
   "id": "03fd7b59",
   "metadata": {},
   "outputs": [],
   "source": [
    "import numpy as np\n",
    "import pandas as pd"
   ]
  },
  {
   "cell_type": "markdown",
   "id": "fdccde5e",
   "metadata": {},
   "source": [
    "## Creating \n",
    "### Pandas series from list"
   ]
  },
  {
   "cell_type": "code",
   "execution_count": null,
   "id": "8d4768b0",
   "metadata": {},
   "outputs": [],
   "source": [
    "my_data = [10, 20, 30, 40, 50]\n",
    "labels = [\"a\", \"b\", \"c\", \"d\", \"e\"]"
   ]
  },
  {
   "cell_type": "code",
   "execution_count": null,
   "id": "dcfb093b",
   "metadata": {},
   "outputs": [],
   "source": [
    "pd.Series(data = my_data) # default index starts at 0"
   ]
  },
  {
   "cell_type": "code",
   "execution_count": null,
   "id": "8c094f06",
   "metadata": {},
   "outputs": [],
   "source": [
    "pd.Series(data = my_data, index = labels) # passing index values to the series"
   ]
  },
  {
   "cell_type": "code",
   "execution_count": null,
   "id": "b74726b2",
   "metadata": {
    "scrolled": true
   },
   "outputs": [],
   "source": [
    "pd.Series(my_data, labels)"
   ]
  },
  {
   "cell_type": "code",
   "execution_count": null,
   "id": "47de6865",
   "metadata": {},
   "outputs": [],
   "source": [
    "b = pd.Series(my_data, labels)\n",
    "b"
   ]
  },
  {
   "cell_type": "markdown",
   "id": "d588cb5b",
   "metadata": {},
   "source": [
    "### Pandas series from numpy array"
   ]
  },
  {
   "cell_type": "code",
   "execution_count": null,
   "id": "9fea5137",
   "metadata": {},
   "outputs": [],
   "source": [
    "arr = np.array(my_data)\n",
    "arr"
   ]
  },
  {
   "cell_type": "code",
   "execution_count": null,
   "id": "566eead8",
   "metadata": {},
   "outputs": [],
   "source": [
    "pd.Series(data = arr)"
   ]
  },
  {
   "cell_type": "code",
   "execution_count": null,
   "id": "d86dfd06",
   "metadata": {
    "scrolled": true
   },
   "outputs": [],
   "source": [
    "pd.Series(data = arr, index = labels)"
   ]
  },
  {
   "cell_type": "markdown",
   "id": "326b9788",
   "metadata": {},
   "source": [
    "### Pandas series using dictionary"
   ]
  },
  {
   "cell_type": "code",
   "execution_count": null,
   "id": "7667b51b",
   "metadata": {},
   "outputs": [],
   "source": [
    "d = {'a': 100, 'b': 200, 'c': 300, 'd': 400}"
   ]
  },
  {
   "cell_type": "code",
   "execution_count": null,
   "id": "1bf4be4a",
   "metadata": {},
   "outputs": [],
   "source": [
    "d"
   ]
  },
  {
   "cell_type": "code",
   "execution_count": null,
   "id": "330518cd",
   "metadata": {},
   "outputs": [],
   "source": [
    "pd.Series(d)"
   ]
  },
  {
   "cell_type": "code",
   "execution_count": null,
   "id": "b4b73859",
   "metadata": {},
   "outputs": [],
   "source": [
    "pd.Series(data = [sum, len])"
   ]
  },
  {
   "cell_type": "markdown",
   "id": "5cd3df10",
   "metadata": {},
   "source": [
    "### Grab information from pandas series"
   ]
  },
  {
   "cell_type": "code",
   "execution_count": null,
   "id": "9a2ed295",
   "metadata": {},
   "outputs": [],
   "source": [
    "ser1 = pd.Series(data = [1,2,3,4], index = ['Red', 'Green', 'Blue', 'Orange'])"
   ]
  },
  {
   "cell_type": "code",
   "execution_count": null,
   "id": "aa588a44",
   "metadata": {},
   "outputs": [],
   "source": [
    "ser1"
   ]
  },
  {
   "cell_type": "code",
   "execution_count": null,
   "id": "8314f12b",
   "metadata": {},
   "outputs": [],
   "source": [
    "ser2 = pd.Series(data = [1,2,5,4], index = ['Red', 'Green', 'Yellow', 'Orange'])"
   ]
  },
  {
   "cell_type": "code",
   "execution_count": null,
   "id": "d0ffdec4",
   "metadata": {
    "scrolled": true
   },
   "outputs": [],
   "source": [
    "ser2"
   ]
  },
  {
   "cell_type": "code",
   "execution_count": null,
   "id": "6510d93d",
   "metadata": {},
   "outputs": [],
   "source": [
    "ser2['Green']"
   ]
  },
  {
   "cell_type": "code",
   "execution_count": null,
   "id": "c7998271",
   "metadata": {},
   "outputs": [],
   "source": [
    "ser1['Blue']"
   ]
  },
  {
   "cell_type": "code",
   "execution_count": null,
   "id": "eb5c69a2",
   "metadata": {},
   "outputs": [],
   "source": [
    "ser3 = pd.Series(data = ['a', 'b', 'c', 'd', 'e'])"
   ]
  },
  {
   "cell_type": "code",
   "execution_count": null,
   "id": "80ca6f81",
   "metadata": {
    "scrolled": true
   },
   "outputs": [],
   "source": [
    "ser3"
   ]
  },
  {
   "cell_type": "code",
   "execution_count": null,
   "id": "53735fa4",
   "metadata": {},
   "outputs": [],
   "source": [
    "ser3[0]"
   ]
  },
  {
   "cell_type": "code",
   "execution_count": null,
   "id": "06074dcb",
   "metadata": {},
   "outputs": [],
   "source": [
    "ser1[0:4]"
   ]
  },
  {
   "cell_type": "code",
   "execution_count": null,
   "id": "38f6841c",
   "metadata": {},
   "outputs": [],
   "source": [
    "ser1"
   ]
  },
  {
   "cell_type": "code",
   "execution_count": null,
   "id": "070a6b80",
   "metadata": {},
   "outputs": [],
   "source": [
    "ser2"
   ]
  },
  {
   "cell_type": "code",
   "execution_count": null,
   "id": "03424758",
   "metadata": {},
   "outputs": [],
   "source": [
    "ser1 + ser2"
   ]
  },
  {
   "cell_type": "markdown",
   "id": "9161c867",
   "metadata": {},
   "source": [
    "## Dataframes Part 1"
   ]
  },
  {
   "cell_type": "code",
   "execution_count": null,
   "id": "f479d143",
   "metadata": {},
   "outputs": [],
   "source": [
    "import numpy as np\n",
    "import pandas as pd\n",
    "from numpy.random import randn\n",
    "np.random.seed(101)"
   ]
  },
  {
   "cell_type": "markdown",
   "id": "51dde41b",
   "metadata": {},
   "source": [
    "### Creating a dataframe"
   ]
  },
  {
   "cell_type": "code",
   "execution_count": null,
   "id": "0dd625ea",
   "metadata": {},
   "outputs": [],
   "source": [
    "df = pd.DataFrame(data = randn(5,4), index = [\"a\", \"b\", \"c\", \"d\", \"e\"], columns = [\"w\", \"x\", \"y\", \"z\"])"
   ]
  },
  {
   "cell_type": "code",
   "execution_count": null,
   "id": "2eecd77e",
   "metadata": {},
   "outputs": [],
   "source": [
    "df"
   ]
  },
  {
   "cell_type": "markdown",
   "id": "2e0071e1",
   "metadata": {},
   "source": [
    "### Indexing and selection"
   ]
  },
  {
   "cell_type": "code",
   "execution_count": null,
   "id": "b6ed730d",
   "metadata": {},
   "outputs": [],
   "source": [
    "df['w'] # Picking the w column"
   ]
  },
  {
   "cell_type": "code",
   "execution_count": null,
   "id": "1bba1eee",
   "metadata": {},
   "outputs": [],
   "source": [
    "df[['x', 'z']] # Picking x and z columns"
   ]
  },
  {
   "cell_type": "code",
   "execution_count": null,
   "id": "bd4e4b73",
   "metadata": {},
   "outputs": [],
   "source": [
    "type(df['w']) # This is of type Series"
   ]
  },
  {
   "cell_type": "code",
   "execution_count": null,
   "id": "93c348cc",
   "metadata": {},
   "outputs": [],
   "source": [
    "type(df) # This is of type DataFrame"
   ]
  },
  {
   "cell_type": "code",
   "execution_count": null,
   "id": "af1372bd",
   "metadata": {},
   "outputs": [],
   "source": [
    "type(df[['x', 'z']]) # This is of type DataFrame again"
   ]
  },
  {
   "cell_type": "code",
   "execution_count": null,
   "id": "d05305fc",
   "metadata": {},
   "outputs": [],
   "source": [
    "df[['x', 'z']] # Make use of two square brackets"
   ]
  },
  {
   "cell_type": "markdown",
   "id": "47ff98d9",
   "metadata": {},
   "source": [
    "### Adding a new column in a DataFrame"
   ]
  },
  {
   "cell_type": "code",
   "execution_count": null,
   "id": "272ff70c",
   "metadata": {},
   "outputs": [],
   "source": [
    "df['new'] = df['w'] + df['x']"
   ]
  },
  {
   "cell_type": "code",
   "execution_count": null,
   "id": "ee0824fc",
   "metadata": {},
   "outputs": [],
   "source": [
    "df"
   ]
  },
  {
   "cell_type": "code",
   "execution_count": null,
   "id": "5149b255",
   "metadata": {
    "scrolled": true
   },
   "outputs": [],
   "source": [
    "df.drop(labels = 'new', axis = 1)"
   ]
  },
  {
   "cell_type": "code",
   "execution_count": null,
   "id": "03793661",
   "metadata": {},
   "outputs": [],
   "source": [
    "df['new'] = df['w'] // df['x']"
   ]
  },
  {
   "cell_type": "code",
   "execution_count": null,
   "id": "3651183b",
   "metadata": {},
   "outputs": [],
   "source": [
    "df"
   ]
  },
  {
   "cell_type": "markdown",
   "id": "a78983e2",
   "metadata": {},
   "source": [
    "### Removing a column from a DataFrame"
   ]
  },
  {
   "cell_type": "code",
   "execution_count": null,
   "id": "8c8977d1",
   "metadata": {},
   "outputs": [],
   "source": [
    "df.drop(labels = 'new', axis = 1)"
   ]
  },
  {
   "cell_type": "code",
   "execution_count": null,
   "id": "7a6cc2e0",
   "metadata": {},
   "outputs": [],
   "source": [
    "df # The new column is still present in the DataFrame"
   ]
  },
  {
   "cell_type": "code",
   "execution_count": null,
   "id": "ae8e4c5a",
   "metadata": {},
   "outputs": [],
   "source": [
    "df.drop(labels = 'new', axis = 1, inplace = True) # Using inplace = True, removes it completely"
   ]
  },
  {
   "cell_type": "code",
   "execution_count": null,
   "id": "039856a8",
   "metadata": {},
   "outputs": [],
   "source": [
    "df # the new column is removed completely"
   ]
  },
  {
   "cell_type": "markdown",
   "id": "4e46bf03",
   "metadata": {},
   "source": [
    "### Removing a row from a DataFrame"
   ]
  },
  {
   "cell_type": "code",
   "execution_count": null,
   "id": "cd20079a",
   "metadata": {},
   "outputs": [],
   "source": [
    "df.drop('b', axis = 0) # 0 means we are refering to rows, so row b is dropped\n",
    "# Adding inplace = True would remove row c completely just like columns"
   ]
  },
  {
   "cell_type": "markdown",
   "id": "86291497",
   "metadata": {},
   "source": [
    "### Selecting some rows in a DataFrame"
   ]
  },
  {
   "cell_type": "code",
   "execution_count": null,
   "id": "026c7e3a",
   "metadata": {},
   "outputs": [],
   "source": [
    "df.loc['c']"
   ]
  },
  {
   "cell_type": "code",
   "execution_count": null,
   "id": "8354a9f6",
   "metadata": {},
   "outputs": [],
   "source": [
    "df.loc['e']"
   ]
  },
  {
   "cell_type": "code",
   "execution_count": null,
   "id": "e8872607",
   "metadata": {},
   "outputs": [],
   "source": [
    "type(df.loc['e'])"
   ]
  },
  {
   "cell_type": "markdown",
   "id": "e5c8f91b",
   "metadata": {},
   "source": [
    "### Selecting the subset of rows and columns"
   ]
  },
  {
   "cell_type": "code",
   "execution_count": null,
   "id": "a98d568e",
   "metadata": {},
   "outputs": [],
   "source": [
    "df"
   ]
  },
  {
   "cell_type": "code",
   "execution_count": null,
   "id": "23b9bd8f",
   "metadata": {},
   "outputs": [],
   "source": [
    "df.loc['e', 'x'] # Particular cell"
   ]
  },
  {
   "cell_type": "code",
   "execution_count": null,
   "id": "0b63064f",
   "metadata": {},
   "outputs": [],
   "source": [
    "df.loc['c', 'x']"
   ]
  },
  {
   "cell_type": "code",
   "execution_count": null,
   "id": "37387f12",
   "metadata": {},
   "outputs": [],
   "source": [
    "df.loc[['d', 'e'], ['y', 'z']]"
   ]
  },
  {
   "cell_type": "code",
   "execution_count": null,
   "id": "d7e5c661",
   "metadata": {},
   "outputs": [],
   "source": [
    "df.loc[['a', 'e'], ['x', 'z']]"
   ]
  },
  {
   "cell_type": "code",
   "execution_count": null,
   "id": "5e807264",
   "metadata": {},
   "outputs": [],
   "source": [
    "df.loc[['a', 'e', 'b'], ['x', 'z', 'w']]"
   ]
  },
  {
   "cell_type": "markdown",
   "id": "9dab9786",
   "metadata": {},
   "source": [
    "## DataFrames Part 2"
   ]
  },
  {
   "cell_type": "code",
   "execution_count": null,
   "id": "9bfa4bb0",
   "metadata": {},
   "outputs": [],
   "source": [
    "import numpy as np\n",
    "import pandas as pd\n",
    "from numpy.random import randn\n",
    "np.random.seed(101)"
   ]
  },
  {
   "cell_type": "code",
   "execution_count": null,
   "id": "00808a46",
   "metadata": {},
   "outputs": [],
   "source": [
    "df = pd.DataFrame(data = randn(5,4), index = [\"a\", \"b\", \"c\", \"d\", \"e\"], columns = [\"w\", \"x\", \"y\", \"z\"])"
   ]
  },
  {
   "cell_type": "code",
   "execution_count": null,
   "id": "17363eca",
   "metadata": {},
   "outputs": [],
   "source": [
    "df"
   ]
  },
  {
   "cell_type": "markdown",
   "id": "cb6de9dc",
   "metadata": {},
   "source": [
    "### Conditional Selection"
   ]
  },
  {
   "cell_type": "code",
   "execution_count": null,
   "id": "39033bbe",
   "metadata": {},
   "outputs": [],
   "source": [
    "df > 0"
   ]
  },
  {
   "cell_type": "code",
   "execution_count": null,
   "id": "4ce9c437",
   "metadata": {},
   "outputs": [],
   "source": [
    "b = df > 0"
   ]
  },
  {
   "cell_type": "code",
   "execution_count": null,
   "id": "517fbcba",
   "metadata": {},
   "outputs": [],
   "source": [
    "b"
   ]
  },
  {
   "cell_type": "code",
   "execution_count": null,
   "id": "104b6ff2",
   "metadata": {},
   "outputs": [],
   "source": [
    "df[b]"
   ]
  },
  {
   "cell_type": "code",
   "execution_count": null,
   "id": "70726f46",
   "metadata": {},
   "outputs": [],
   "source": [
    "df[df > 0]"
   ]
  },
  {
   "cell_type": "code",
   "execution_count": null,
   "id": "47a6647a",
   "metadata": {},
   "outputs": [],
   "source": [
    "df['w'] > 0"
   ]
  },
  {
   "cell_type": "code",
   "execution_count": null,
   "id": "a80a1baf",
   "metadata": {},
   "outputs": [],
   "source": [
    "d = df['w'] > 0"
   ]
  },
  {
   "cell_type": "code",
   "execution_count": null,
   "id": "9d89fe21",
   "metadata": {},
   "outputs": [],
   "source": [
    "d"
   ]
  },
  {
   "cell_type": "code",
   "execution_count": null,
   "id": "13a9c8ba",
   "metadata": {},
   "outputs": [],
   "source": [
    "df[d] # c row is dropped because it had a False"
   ]
  },
  {
   "cell_type": "code",
   "execution_count": null,
   "id": "f895480c",
   "metadata": {},
   "outputs": [],
   "source": [
    "df[df['w'] > 0]"
   ]
  },
  {
   "cell_type": "code",
   "execution_count": null,
   "id": "4cd386a9",
   "metadata": {},
   "outputs": [],
   "source": [
    "df"
   ]
  },
  {
   "cell_type": "code",
   "execution_count": null,
   "id": "cbcdf5ee",
   "metadata": {},
   "outputs": [],
   "source": [
    "df[(df['w'] > 0) & (df['y'] > 1)] # and logical operator"
   ]
  },
  {
   "cell_type": "code",
   "execution_count": null,
   "id": "a7e3f751",
   "metadata": {},
   "outputs": [],
   "source": [
    "df[(df['w'] > 0) | (df['y'] > 1)] # or logical operator"
   ]
  },
  {
   "cell_type": "markdown",
   "id": "7ffe2f62",
   "metadata": {},
   "source": [
    "### Indexing DataFrame"
   ]
  },
  {
   "cell_type": "code",
   "execution_count": null,
   "id": "ec788ab3",
   "metadata": {},
   "outputs": [],
   "source": [
    "df"
   ]
  },
  {
   "cell_type": "code",
   "execution_count": null,
   "id": "8de6fba8",
   "metadata": {},
   "outputs": [],
   "source": [
    "df.reset_index()"
   ]
  },
  {
   "cell_type": "code",
   "execution_count": null,
   "id": "f63064ee",
   "metadata": {},
   "outputs": [],
   "source": [
    "new_index = ['R', 'G', 'B', 'O', 'Y']"
   ]
  },
  {
   "cell_type": "code",
   "execution_count": null,
   "id": "e11c8df2",
   "metadata": {},
   "outputs": [],
   "source": [
    "new_index"
   ]
  },
  {
   "cell_type": "code",
   "execution_count": null,
   "id": "78c46f1f",
   "metadata": {},
   "outputs": [],
   "source": [
    "df['Colors'] = new_index"
   ]
  },
  {
   "cell_type": "code",
   "execution_count": null,
   "id": "b3444cde",
   "metadata": {},
   "outputs": [],
   "source": [
    "df"
   ]
  },
  {
   "cell_type": "code",
   "execution_count": null,
   "id": "2c697b16",
   "metadata": {},
   "outputs": [],
   "source": [
    "df.set_index('Colors') # Am wondering why the column names w to z jumped up"
   ]
  },
  {
   "cell_type": "markdown",
   "id": "4db740b8",
   "metadata": {},
   "source": [
    "## DataFrames Part 3"
   ]
  },
  {
   "cell_type": "code",
   "execution_count": null,
   "id": "61728686",
   "metadata": {},
   "outputs": [],
   "source": [
    "import numpy as np\n",
    "import pandas as pd\n",
    "from numpy.random import randn\n",
    "np.random.seed(102)"
   ]
  },
  {
   "cell_type": "code",
   "execution_count": null,
   "id": "33600552",
   "metadata": {},
   "outputs": [],
   "source": [
    "outside = ['Red','Red','Red','Green','Green','Green']\n",
    "inside = [1,2,3,1,2,3]"
   ]
  },
  {
   "cell_type": "code",
   "execution_count": null,
   "id": "419043ea",
   "metadata": {},
   "outputs": [],
   "source": [
    "hier_index = list(zip(outside,inside))"
   ]
  },
  {
   "cell_type": "code",
   "execution_count": null,
   "id": "7e7de42f",
   "metadata": {},
   "outputs": [],
   "source": [
    "hier_index"
   ]
  },
  {
   "cell_type": "code",
   "execution_count": null,
   "id": "afebce4e",
   "metadata": {},
   "outputs": [],
   "source": [
    "multi_index = pd.MultiIndex.from_tuples(hier_index, names = ['Colors', 'Numbers'])"
   ]
  },
  {
   "cell_type": "code",
   "execution_count": null,
   "id": "f74efa0a",
   "metadata": {},
   "outputs": [],
   "source": [
    "multi_index"
   ]
  },
  {
   "cell_type": "code",
   "execution_count": null,
   "id": "4fb1ffce",
   "metadata": {},
   "outputs": [],
   "source": [
    "df = pd.DataFrame(data = randn(6,2), index=multi_index, columns = ['A', 'B'])"
   ]
  },
  {
   "cell_type": "code",
   "execution_count": null,
   "id": "f0f3f23a",
   "metadata": {},
   "outputs": [],
   "source": [
    "df"
   ]
  },
  {
   "cell_type": "code",
   "execution_count": null,
   "id": "95649438",
   "metadata": {},
   "outputs": [],
   "source": [
    "df.loc['Red'].loc[1]['A']"
   ]
  },
  {
   "cell_type": "code",
   "execution_count": null,
   "id": "3ff1c7a4",
   "metadata": {},
   "outputs": [],
   "source": [
    "df.loc['Green'].loc[2]['B']"
   ]
  },
  {
   "cell_type": "code",
   "execution_count": null,
   "id": "291428c2",
   "metadata": {},
   "outputs": [],
   "source": [
    "df.index.names"
   ]
  },
  {
   "cell_type": "code",
   "execution_count": null,
   "id": "cd339558",
   "metadata": {},
   "outputs": [],
   "source": [
    "df.index.names = ['Col', 'Num']"
   ]
  },
  {
   "cell_type": "markdown",
   "id": "fe164260",
   "metadata": {},
   "source": [
    "### Cross section"
   ]
  },
  {
   "cell_type": "code",
   "execution_count": null,
   "id": "b4bbe2c5",
   "metadata": {},
   "outputs": [],
   "source": [
    "df"
   ]
  },
  {
   "cell_type": "code",
   "execution_count": null,
   "id": "aa5d2aa3",
   "metadata": {},
   "outputs": [],
   "source": [
    "df.loc['Red']"
   ]
  },
  {
   "cell_type": "code",
   "execution_count": null,
   "id": "f6560c54",
   "metadata": {},
   "outputs": [],
   "source": [
    "df.loc['Green']"
   ]
  },
  {
   "cell_type": "code",
   "execution_count": null,
   "id": "eb40462e",
   "metadata": {},
   "outputs": [],
   "source": [
    "df.xs('Red')"
   ]
  },
  {
   "cell_type": "code",
   "execution_count": null,
   "id": "e3845a45",
   "metadata": {},
   "outputs": [],
   "source": [
    "df.xs(1, level = 'Num')"
   ]
  },
  {
   "cell_type": "markdown",
   "id": "fecf1146",
   "metadata": {},
   "source": [
    "## Missing data"
   ]
  },
  {
   "cell_type": "code",
   "execution_count": null,
   "id": "385afcfe",
   "metadata": {},
   "outputs": [],
   "source": [
    "import numpy as np\n",
    "import pandas as pd"
   ]
  },
  {
   "cell_type": "markdown",
   "id": "3a33745f",
   "metadata": {},
   "source": [
    "### CReate DataFrame with missing values"
   ]
  },
  {
   "cell_type": "code",
   "execution_count": null,
   "id": "934f179f",
   "metadata": {},
   "outputs": [],
   "source": [
    "d = {\"A\": [1,2,np.nan], \"B\":[3, np.nan, np.nan], \"C\":[4,5,6]}"
   ]
  },
  {
   "cell_type": "code",
   "execution_count": null,
   "id": "3d264d12",
   "metadata": {},
   "outputs": [],
   "source": [
    "df = pd.DataFrame(d)"
   ]
  },
  {
   "cell_type": "code",
   "execution_count": null,
   "id": "86d552ad",
   "metadata": {},
   "outputs": [],
   "source": [
    "df"
   ]
  },
  {
   "cell_type": "markdown",
   "id": "80a3a0ea",
   "metadata": {},
   "source": [
    "### dropna"
   ]
  },
  {
   "cell_type": "code",
   "execution_count": null,
   "id": "01cfd841",
   "metadata": {},
   "outputs": [],
   "source": [
    "df.dropna() # Drops nas along rows by default"
   ]
  },
  {
   "cell_type": "code",
   "execution_count": null,
   "id": "45590330",
   "metadata": {},
   "outputs": [],
   "source": [
    "df.dropna(axis = 1) # Dropa nas column-wise"
   ]
  },
  {
   "cell_type": "code",
   "execution_count": null,
   "id": "f23aa7c6",
   "metadata": {},
   "outputs": [],
   "source": [
    "df.dropna(axis = 0) # Also works with rows"
   ]
  },
  {
   "cell_type": "code",
   "execution_count": null,
   "id": "2071fc93",
   "metadata": {},
   "outputs": [],
   "source": [
    "df.dropna(thresh = 2, axis = 0) # Only leave rows with less than two NaNs"
   ]
  },
  {
   "cell_type": "code",
   "execution_count": null,
   "id": "b7be42b5",
   "metadata": {},
   "outputs": [],
   "source": [
    "df.dropna(thresh = 1, axis = 1)"
   ]
  },
  {
   "cell_type": "markdown",
   "id": "44090bf7",
   "metadata": {},
   "source": [
    "### fillna"
   ]
  },
  {
   "cell_type": "code",
   "execution_count": null,
   "id": "5a01b4c3",
   "metadata": {},
   "outputs": [],
   "source": [
    "df.fillna(value = 'New Value')"
   ]
  },
  {
   "cell_type": "code",
   "execution_count": null,
   "id": "364896f7",
   "metadata": {},
   "outputs": [],
   "source": [
    "df['A'].fillna(value = df['A'].mean()) # can also take min, max, average, sum"
   ]
  },
  {
   "cell_type": "markdown",
   "id": "67ab1053",
   "metadata": {},
   "source": [
    "## Groupby method"
   ]
  },
  {
   "cell_type": "code",
   "execution_count": null,
   "id": "4b8b6d4f",
   "metadata": {},
   "outputs": [],
   "source": [
    "team_data = {'Company': ['Apple', 'Apple', 'FB', 'FB', 'Google', 'Google'], \n",
    "             'Person': ['Mark', 'Tom', 'John', 'Sara', 'Mia', 'Emma'], \n",
    "             'Sales': [200, 150, 350, 125, 260, 180]}"
   ]
  },
  {
   "cell_type": "code",
   "execution_count": null,
   "id": "bf1776a2",
   "metadata": {},
   "outputs": [],
   "source": [
    "team_data"
   ]
  },
  {
   "cell_type": "code",
   "execution_count": null,
   "id": "05e1937b",
   "metadata": {},
   "outputs": [],
   "source": [
    "df = pd.DataFrame(team_data)"
   ]
  },
  {
   "cell_type": "code",
   "execution_count": null,
   "id": "214a5a0b",
   "metadata": {},
   "outputs": [],
   "source": [
    "df"
   ]
  },
  {
   "cell_type": "code",
   "execution_count": null,
   "id": "3000092e",
   "metadata": {},
   "outputs": [],
   "source": [
    "df.groupby(by = 'Company')"
   ]
  },
  {
   "cell_type": "code",
   "execution_count": null,
   "id": "fe1de818",
   "metadata": {},
   "outputs": [],
   "source": [
    "b = df.groupby('Company')"
   ]
  },
  {
   "cell_type": "code",
   "execution_count": null,
   "id": "93884cb6",
   "metadata": {},
   "outputs": [],
   "source": [
    "b.mean()"
   ]
  },
  {
   "cell_type": "code",
   "execution_count": null,
   "id": "12350e62",
   "metadata": {},
   "outputs": [],
   "source": [
    "b.sum()"
   ]
  },
  {
   "cell_type": "code",
   "execution_count": null,
   "id": "93358683",
   "metadata": {},
   "outputs": [],
   "source": [
    "b.sum().loc['Apple']"
   ]
  },
  {
   "cell_type": "code",
   "execution_count": null,
   "id": "9866a660",
   "metadata": {},
   "outputs": [],
   "source": [
    "df.groupby(by = 'Company').sum().loc['FB']"
   ]
  },
  {
   "cell_type": "code",
   "execution_count": null,
   "id": "40adae2e",
   "metadata": {},
   "outputs": [],
   "source": [
    "b.count()"
   ]
  },
  {
   "cell_type": "code",
   "execution_count": null,
   "id": "42e60f2a",
   "metadata": {},
   "outputs": [],
   "source": [
    "b.max()"
   ]
  },
  {
   "cell_type": "code",
   "execution_count": null,
   "id": "9add0452",
   "metadata": {},
   "outputs": [],
   "source": [
    "b.min()"
   ]
  },
  {
   "cell_type": "code",
   "execution_count": null,
   "id": "dbe4146e",
   "metadata": {},
   "outputs": [],
   "source": [
    "df.groupby(by = 'Company').describe()"
   ]
  },
  {
   "cell_type": "code",
   "execution_count": null,
   "id": "ff9e8a17",
   "metadata": {},
   "outputs": [],
   "source": [
    "df.groupby(by = 'Company').describe().transpose()"
   ]
  },
  {
   "cell_type": "code",
   "execution_count": null,
   "id": "5c651e47",
   "metadata": {},
   "outputs": [],
   "source": [
    "df.groupby(by = 'Company').describe().loc['FB']"
   ]
  },
  {
   "cell_type": "markdown",
   "id": "05d30bb7",
   "metadata": {},
   "source": [
    "## Merging, Joining and Concatenating"
   ]
  },
  {
   "cell_type": "code",
   "execution_count": null,
   "id": "d6a8a517",
   "metadata": {},
   "outputs": [],
   "source": [
    "import pandas as pd"
   ]
  },
  {
   "cell_type": "markdown",
   "id": "af53a7cb",
   "metadata": {},
   "source": [
    "### DataFrames Concatenations"
   ]
  },
  {
   "cell_type": "code",
   "execution_count": null,
   "id": "cfcc7c56",
   "metadata": {},
   "outputs": [],
   "source": [
    "df1 = pd.DataFrame({'A': ['A0', 'A1', 'A2', 'A3'],\n",
    "                   'B': ['B0', 'B1', 'B2', 'B3'],\n",
    "                   'C': ['C0', 'C1', 'C2', 'C3'],\n",
    "                   'D': ['D0', 'D1', 'D2', 'D3']},\n",
    "                  index = [0, 1, 2, 3])\n",
    "\n",
    "df2 = pd.DataFrame({'A': ['A4', 'A5', 'A6', 'A7'],\n",
    "                   'B': ['B4', 'B5', 'B6', 'B7'],\n",
    "                   'C': ['C4', 'C5', 'C6', 'C7'],\n",
    "                   'D': ['D4', 'D5', 'D6', 'D7']},\n",
    "                  index = [4, 5, 6, 7])\n",
    "\n",
    "df3 = pd.DataFrame({'A': ['A8', 'A9', 'A10', 'A11'],\n",
    "                   'B': ['B8', 'B9', 'B10', 'B11'],\n",
    "                   'C': ['C8', 'C9', 'C10', 'C11'],\n",
    "                   'D': ['D8', 'D9', 'D10', 'D11']},\n",
    "                  index = [8, 9, 10, 11])"
   ]
  },
  {
   "cell_type": "code",
   "execution_count": null,
   "id": "d024f139",
   "metadata": {},
   "outputs": [],
   "source": [
    "df1"
   ]
  },
  {
   "cell_type": "code",
   "execution_count": null,
   "id": "af17c82c",
   "metadata": {},
   "outputs": [],
   "source": [
    "df2 "
   ]
  },
  {
   "cell_type": "code",
   "execution_count": null,
   "id": "cfcdb0c1",
   "metadata": {},
   "outputs": [],
   "source": [
    "df3"
   ]
  },
  {
   "cell_type": "code",
   "execution_count": null,
   "id": "ec423f67",
   "metadata": {},
   "outputs": [],
   "source": [
    "pd.concat(objs = [df1, df2, df3])"
   ]
  },
  {
   "cell_type": "code",
   "execution_count": null,
   "id": "62cec500",
   "metadata": {},
   "outputs": [],
   "source": [
    "pd.concat(objs = [df1, df2, df3], axis = 1)"
   ]
  },
  {
   "cell_type": "markdown",
   "id": "fee8044c",
   "metadata": {},
   "source": [
    "### DataFrames Merging"
   ]
  },
  {
   "cell_type": "code",
   "execution_count": null,
   "id": "1ef23d9a",
   "metadata": {},
   "outputs": [],
   "source": [
    "df4 = pd.DataFrame({'Key': ['K0', 'K1', 'K2', 'K3'],\n",
    "                   'A': ['A0', 'A1', 'A2', 'A3'],\n",
    "                   'B': ['B0', 'B1', 'B2', 'B3']})\n",
    "\n",
    "df5 = pd.DataFrame({'Key': ['K0', 'K1', 'K2', 'K3'],\n",
    "                   'C': ['C0', 'C1', 'C2', 'C3'],\n",
    "                   'D': ['D0', 'D1', 'D2', 'D3']})"
   ]
  },
  {
   "cell_type": "code",
   "execution_count": null,
   "id": "a667a2aa",
   "metadata": {},
   "outputs": [],
   "source": [
    "df4"
   ]
  },
  {
   "cell_type": "code",
   "execution_count": null,
   "id": "3d17e9a3",
   "metadata": {},
   "outputs": [],
   "source": [
    "df5"
   ]
  },
  {
   "cell_type": "code",
   "execution_count": null,
   "id": "c4d691ef",
   "metadata": {},
   "outputs": [],
   "source": [
    "pd.merge(left = df4, right = df5, on = 'Key')"
   ]
  },
  {
   "cell_type": "code",
   "execution_count": null,
   "id": "252e874f",
   "metadata": {},
   "outputs": [],
   "source": [
    "df6 = pd.DataFrame({'key1': ['K0', 'K0', 'K1', 'K2'],\n",
    "                    'key2': ['K0', 'K1', 'K0', 'K1'],\n",
    "                   'A': ['A0', 'A1', 'A2', 'A3'],\n",
    "                   'B': ['B0', 'B1', 'B2', 'B3']})\n",
    "\n",
    "df7 = pd.DataFrame({'key1': ['K0', 'K1', 'K1', 'K2'],\n",
    "                    'key2': ['K0', 'K0', 'K0', 'K0'],\n",
    "                   'C': ['C0', 'C1', 'C2', 'C3'],\n",
    "                   'D': ['D0', 'D1', 'D2', 'D3']})"
   ]
  },
  {
   "cell_type": "code",
   "execution_count": null,
   "id": "701eb480",
   "metadata": {
    "scrolled": true
   },
   "outputs": [],
   "source": [
    "df6"
   ]
  },
  {
   "cell_type": "code",
   "execution_count": null,
   "id": "e1bab10d",
   "metadata": {},
   "outputs": [],
   "source": [
    "df7"
   ]
  },
  {
   "cell_type": "code",
   "execution_count": null,
   "id": "060401c5",
   "metadata": {},
   "outputs": [],
   "source": [
    "pd.merge(left = df6, right = df7, on = ['key1', 'key2'])"
   ]
  },
  {
   "cell_type": "markdown",
   "id": "9d2abb43",
   "metadata": {},
   "source": [
    "## DataFrames Join"
   ]
  },
  {
   "cell_type": "code",
   "execution_count": null,
   "id": "6221461b",
   "metadata": {},
   "outputs": [],
   "source": [
    "df8 = pd.DataFrame({'A': ['A0', 'A1', 'A2', 'A3'],\n",
    "                   'B': ['B0', 'B1', 'B2', 'B3']},\n",
    "                  index = ['K0', 'K1', 'K2', 'K3'])\n",
    "\n",
    "df9 = pd.DataFrame({'C': ['C0', 'C1', 'C2', 'C3'],\n",
    "                   'D': ['D0', 'D1', 'D2', 'D3']},\n",
    "                  index = ['K0', 'K1', 'K2', 'K3'])"
   ]
  },
  {
   "cell_type": "code",
   "execution_count": null,
   "id": "0d35c37c",
   "metadata": {},
   "outputs": [],
   "source": [
    "df8"
   ]
  },
  {
   "cell_type": "code",
   "execution_count": null,
   "id": "025fb716",
   "metadata": {},
   "outputs": [],
   "source": [
    "df9"
   ]
  },
  {
   "cell_type": "code",
   "execution_count": null,
   "id": "08aef1a2",
   "metadata": {},
   "outputs": [],
   "source": [
    "df8.join(df9)"
   ]
  },
  {
   "cell_type": "code",
   "execution_count": null,
   "id": "0502c76e",
   "metadata": {},
   "outputs": [],
   "source": []
  },
  {
   "cell_type": "markdown",
   "id": "3b624c9b",
   "metadata": {},
   "source": [
    "## Reading and writing files in pandas"
   ]
  },
  {
   "cell_type": "code",
   "execution_count": null,
   "id": "35e821f2",
   "metadata": {},
   "outputs": [],
   "source": [
    "import pandas as pd"
   ]
  },
  {
   "cell_type": "code",
   "execution_count": null,
   "id": "2ee9d907",
   "metadata": {},
   "outputs": [],
   "source": [
    "pwd"
   ]
  },
  {
   "cell_type": "code",
   "execution_count": null,
   "id": "d43e4591",
   "metadata": {},
   "outputs": [],
   "source": [
    "pd.read_csv('names.csv') # GIve the name of the csv file"
   ]
  },
  {
   "cell_type": "code",
   "execution_count": null,
   "id": "0da583bf",
   "metadata": {},
   "outputs": [],
   "source": [
    "b = pd.read_csv('names.csv')"
   ]
  },
  {
   "cell_type": "code",
   "execution_count": null,
   "id": "7bcd42f7",
   "metadata": {},
   "outputs": [],
   "source": [
    "b"
   ]
  },
  {
   "cell_type": "code",
   "execution_count": null,
   "id": "1ea6021b",
   "metadata": {},
   "outputs": [],
   "source": [
    "df.to_csv('savedone.csv')"
   ]
  },
  {
   "cell_type": "markdown",
   "id": "b043cb52",
   "metadata": {},
   "source": [
    "# PYTHON (DAY 6):- Dr. Pooja"
   ]
  },
  {
   "cell_type": "markdown",
   "id": "283ad9e5",
   "metadata": {},
   "source": [
    "## Data visualization with Matplotlib"
   ]
  },
  {
   "cell_type": "code",
   "execution_count": null,
   "id": "fc423c2d",
   "metadata": {},
   "outputs": [],
   "source": [
    "# Matplotlib is a module for plotting data or visualizing data"
   ]
  },
  {
   "cell_type": "code",
   "execution_count": null,
   "id": "2221addc",
   "metadata": {},
   "outputs": [],
   "source": [
    "# It supports a lot of backend"
   ]
  },
  {
   "cell_type": "code",
   "execution_count": null,
   "id": "8d1437fa",
   "metadata": {},
   "outputs": [],
   "source": [
    "# It has great strenght in data display. There are also:\n",
    "# seaborn\n",
    "# ggplot\n",
    "# bokhen"
   ]
  },
  {
   "cell_type": "code",
   "execution_count": null,
   "id": "4ac4b81a",
   "metadata": {},
   "outputs": [],
   "source": [
    "import pandas as pd\n",
    "import numpy as np\n",
    "import matplotlib.pyplot as plt"
   ]
  },
  {
   "cell_type": "markdown",
   "id": "b78a249c",
   "metadata": {},
   "source": [
    "data:- pandas pd.read_csv('')\n",
    "pandas : - dataframes\n",
    "\n",
    "plt.plot() - line chart\n",
    "\n",
    "plot.xlabel\n",
    "plot.xlabel\n",
    "plot.ylabel\n",
    "plt.xticks\n",
    "plt.yticks\n",
    "\n",
    "plt.legend()\n",
    "plt.title()\n",
    "plt.show()"
   ]
  },
  {
   "cell_type": "code",
   "execution_count": null,
   "id": "67e73ae0",
   "metadata": {},
   "outputs": [],
   "source": [
    "data = pd.read_csv('titanic.csv')\n",
    "data.head()"
   ]
  },
  {
   "cell_type": "code",
   "execution_count": null,
   "id": "03aa5a57",
   "metadata": {},
   "outputs": [],
   "source": [
    "plt.plot(data.Freq)"
   ]
  },
  {
   "cell_type": "code",
   "execution_count": null,
   "id": "1573ec60",
   "metadata": {},
   "outputs": [],
   "source": [
    "plt.plot(data.Freq)\n",
    "plt.xlabel('person')\n",
    "plt.ylabel('age')"
   ]
  },
  {
   "cell_type": "code",
   "execution_count": null,
   "id": "1a00589c",
   "metadata": {},
   "outputs": [],
   "source": [
    "plt.plot(data.Freq)\n",
    "plt.xlabel('person')\n",
    "plt.ylabel('age')\n",
    "plt.legend('Frequency')"
   ]
  },
  {
   "cell_type": "code",
   "execution_count": null,
   "id": "2c0a0488",
   "metadata": {},
   "outputs": [],
   "source": [
    "plt.hist(data.Freq)"
   ]
  },
  {
   "cell_type": "code",
   "execution_count": null,
   "id": "8e0979ca",
   "metadata": {},
   "outputs": [],
   "source": [
    "plt.hist(data['Freq'], facecolor = 'purple', bins = 10)"
   ]
  },
  {
   "cell_type": "code",
   "execution_count": null,
   "id": "5199e183",
   "metadata": {},
   "outputs": [],
   "source": [
    "x = [x for x in range(100)]\n",
    "plt.hist(x)"
   ]
  },
  {
   "cell_type": "code",
   "execution_count": null,
   "id": "6c0a6900",
   "metadata": {},
   "outputs": [],
   "source": [
    "pop = []\n",
    "for i in range(50):\n",
    "               n = np.random.randint(190, 230)\n",
    "               n = n/100\n",
    "               pop.append(n)"
   ]
  },
  {
   "cell_type": "code",
   "execution_count": null,
   "id": "502d972a",
   "metadata": {},
   "outputs": [],
   "source": [
    "plt.hist(pop)"
   ]
  },
  {
   "cell_type": "code",
   "execution_count": null,
   "id": "d0268a01",
   "metadata": {},
   "outputs": [],
   "source": [
    "plt.hist(pop, bins = 5)"
   ]
  },
  {
   "cell_type": "code",
   "execution_count": null,
   "id": "d913f216",
   "metadata": {},
   "outputs": [],
   "source": [
    "plt.hist(pop, bins = 10)"
   ]
  },
  {
   "cell_type": "code",
   "execution_count": null,
   "id": "8c336449",
   "metadata": {},
   "outputs": [],
   "source": [
    "plt.hist(pop, color = 'purple')"
   ]
  },
  {
   "cell_type": "code",
   "execution_count": null,
   "id": "85c9cead",
   "metadata": {},
   "outputs": [],
   "source": [
    "plt.hist(pop, color = 'purple', orientation = 'horizontal')"
   ]
  },
  {
   "cell_type": "code",
   "execution_count": null,
   "id": "848ad289",
   "metadata": {},
   "outputs": [],
   "source": [
    "plt.hist(pop, color = 'purple', orientation = 'horizontal')\n",
    "plt.xscale('log')"
   ]
  },
  {
   "cell_type": "code",
   "execution_count": null,
   "id": "4905e99b",
   "metadata": {},
   "outputs": [],
   "source": [
    "plt.hist(pop, color = 'purple')\n",
    "plt.xticks([0, 20, 30, 50])"
   ]
  },
  {
   "cell_type": "code",
   "execution_count": null,
   "id": "723a3c1d",
   "metadata": {},
   "outputs": [],
   "source": [
    "plt.hist(pop, bins = 5, facecolor = 'purple', edgecolor = 'yellow')\n"
   ]
  },
  {
   "cell_type": "code",
   "execution_count": null,
   "id": "d0a66c52",
   "metadata": {},
   "outputs": [],
   "source": [
    "plt.hist(pop, bins = 5, facecolor = 'magenta', edgecolor = 'cyan', cumulative = True)"
   ]
  },
  {
   "cell_type": "code",
   "execution_count": null,
   "id": "c7d9beba",
   "metadata": {},
   "outputs": [],
   "source": [
    "plt.hist(pop, bins = 10, facecolor = 'purple', edgecolor = 'yellow', range = (1.5, 2.0))"
   ]
  },
  {
   "cell_type": "code",
   "execution_count": null,
   "id": "acbdac4d",
   "metadata": {},
   "outputs": [],
   "source": [
    "# "
   ]
  },
  {
   "cell_type": "code",
   "execution_count": null,
   "id": "b888fa33",
   "metadata": {},
   "outputs": [],
   "source": [
    "x = np.random.rand(5)\n",
    "y = np.random.rand(5)\n",
    "s1 = [10, 20, 30, 40, 100]\n",
    "c1 = np.random.rand(5)"
   ]
  },
  {
   "cell_type": "code",
   "execution_count": null,
   "id": "592c9dc1",
   "metadata": {},
   "outputs": [],
   "source": [
    "plt.scatter(x, y)"
   ]
  },
  {
   "cell_type": "code",
   "execution_count": null,
   "id": "89cc9d0c",
   "metadata": {},
   "outputs": [],
   "source": [
    "plt.scatter(x, y, s = s1) # Size of the dots changed"
   ]
  },
  {
   "cell_type": "code",
   "execution_count": null,
   "id": "2ff583ee",
   "metadata": {},
   "outputs": [],
   "source": [
    "plt.scatter(x, y, s = s1, c = c1) # colors assigned"
   ]
  },
  {
   "cell_type": "code",
   "execution_count": null,
   "id": "4de880dc",
   "metadata": {},
   "outputs": [],
   "source": [
    "plt.scatter(x, y, s = s1) # Size of the dots changed"
   ]
  },
  {
   "cell_type": "code",
   "execution_count": null,
   "id": "d8983d6c",
   "metadata": {},
   "outputs": [],
   "source": [
    "import numpy as np\n",
    "import pandas as pd\n",
    "import matplotlib.pyplot as plt\n",
    "\n",
    "pop = []\n",
    "for i in range(50):\n",
    "               n = np.random.randint(190, 230)\n",
    "               n = n/100\n",
    "               pop.append(n)"
   ]
  },
  {
   "cell_type": "code",
   "execution_count": null,
   "id": "2ef70f38",
   "metadata": {},
   "outputs": [],
   "source": [
    "gdp_cap= []\n",
    "for i in range(50):\n",
    "               n = np.random.randint(155, 389)\n",
    "               n = n/100\n",
    "               gdp_cap.append(n)"
   ]
  },
  {
   "cell_type": "code",
   "execution_count": null,
   "id": "72954c16",
   "metadata": {},
   "outputs": [],
   "source": [
    "life_exp = []\n",
    "for i in range(50):\n",
    "               n = np.random.randint(10, 120)\n",
    "               n = n/100\n",
    "               life_exp.append(n)"
   ]
  },
  {
   "cell_type": "code",
   "execution_count": null,
   "id": "97722dc9",
   "metadata": {},
   "outputs": [],
   "source": [
    "plt.scatter(gdp_cap, pop, s = life_exp)"
   ]
  },
  {
   "cell_type": "code",
   "execution_count": null,
   "id": "3269aab2",
   "metadata": {},
   "outputs": [],
   "source": [
    "# Pie Chart"
   ]
  },
  {
   "cell_type": "code",
   "execution_count": null,
   "id": "1a8aff28",
   "metadata": {},
   "outputs": [],
   "source": [
    "labels = 'Python', 'C++', 'Ruby', 'Java'\n",
    "sizes = [310, 30, 145, 110]"
   ]
  },
  {
   "cell_type": "code",
   "execution_count": null,
   "id": "748b0bc1",
   "metadata": {},
   "outputs": [],
   "source": [
    "plt.pie(sizes)"
   ]
  },
  {
   "cell_type": "code",
   "execution_count": null,
   "id": "31025bbf",
   "metadata": {},
   "outputs": [],
   "source": [
    "plt.pie(sizes, labels = labels)"
   ]
  },
  {
   "cell_type": "code",
   "execution_count": null,
   "id": "767bc697",
   "metadata": {},
   "outputs": [],
   "source": [
    "plt.pie(sizes, labels = labels, colors=['magenta', 'cyan', 'blue', 'green', 'lightblue'])"
   ]
  },
  {
   "cell_type": "code",
   "execution_count": null,
   "id": "b2a52959",
   "metadata": {},
   "outputs": [],
   "source": [
    "c=['magenta', 'cyan', 'blue', 'green', 'lightblue']\n",
    "e = (0, 0.2, 0, 0)\n",
    "plt.pie(sizes, labels = labels, colors=c, explode = e, shadow=True)"
   ]
  },
  {
   "cell_type": "code",
   "execution_count": null,
   "id": "8d16e120",
   "metadata": {},
   "outputs": [],
   "source": [
    "# Bar graphs"
   ]
  },
  {
   "cell_type": "code",
   "execution_count": null,
   "id": "e222d032",
   "metadata": {},
   "outputs": [],
   "source": [
    "x = np.arange(4)\n",
    "money = [1.5e5, 2.5e6, 5.5e6, 2.0e7]"
   ]
  },
  {
   "cell_type": "code",
   "execution_count": null,
   "id": "be3dd1c2",
   "metadata": {},
   "outputs": [],
   "source": [
    "plt.bar(x, money)"
   ]
  },
  {
   "cell_type": "code",
   "execution_count": null,
   "id": "c13f5e93",
   "metadata": {},
   "outputs": [],
   "source": [
    "plt.bar(x, money, color = 'purple')"
   ]
  },
  {
   "cell_type": "code",
   "execution_count": null,
   "id": "7c98c67e",
   "metadata": {},
   "outputs": [],
   "source": [
    "plt.bar(x, money, color = 'purple')\n",
    "plt.xticks(x, ('Bill', 'Fred', 'Mary', 'Sue'))"
   ]
  },
  {
   "cell_type": "code",
   "execution_count": null,
   "id": "b1669fa7",
   "metadata": {},
   "outputs": [],
   "source": [
    "df2 = pd.DataFrame(np.random.rand(10, 4), columns = ['a', 'b', 'c', 'd'])\n",
    "df2.plot.bar()"
   ]
  },
  {
   "cell_type": "code",
   "execution_count": null,
   "id": "370743b4",
   "metadata": {},
   "outputs": [],
   "source": [
    "df2 = pd.DataFrame(np.random.rand(10, 4), columns = ['a', 'b', 'c', 'd'])\n",
    "df2.plot.bar(stacked = True)"
   ]
  },
  {
   "cell_type": "code",
   "execution_count": null,
   "id": "5f7da343",
   "metadata": {},
   "outputs": [],
   "source": [
    "# Area plot ... NaNs are automatically filled by 0 zero...can handle with dropna and fillna"
   ]
  },
  {
   "cell_type": "code",
   "execution_count": null,
   "id": "dc00b02e",
   "metadata": {
    "scrolled": true
   },
   "outputs": [],
   "source": [
    "df = pd.DataFrame(np.random.rand(10, 4), columns = ['a', 'b', 'c', 'd'])\n",
    "df.plot.area()"
   ]
  },
  {
   "cell_type": "code",
   "execution_count": null,
   "id": "3f89feb7",
   "metadata": {},
   "outputs": [],
   "source": []
  },
  {
   "cell_type": "code",
   "execution_count": null,
   "id": "fcb8d6fe",
   "metadata": {},
   "outputs": [],
   "source": []
  },
  {
   "cell_type": "code",
   "execution_count": null,
   "id": "c1c50a4c",
   "metadata": {},
   "outputs": [],
   "source": [
    "# Boxplot min, 1st quart, median, 3rd and max...also IQR 1.35 of standard deviation"
   ]
  },
  {
   "cell_type": "code",
   "execution_count": null,
   "id": "89d861b2",
   "metadata": {},
   "outputs": [],
   "source": [
    "df = pd.DataFrame(np.random.rand(10, 4), columns = ['a', 'b', 'c', 'd'])\n",
    "df.boxplot()"
   ]
  },
  {
   "cell_type": "code",
   "execution_count": null,
   "id": "77c31ba2",
   "metadata": {},
   "outputs": [],
   "source": [
    "df = pd.DataFrame(np.random.rand(10, 4), columns = ['a', 'b', 'c', 'd'])\n",
    "color = dict(boxes = 'Purple', whiskers = 'DarkOrange', )\n",
    "df.plot.box()"
   ]
  },
  {
   "cell_type": "markdown",
   "id": "4df8597b",
   "metadata": {},
   "source": [
    "# PYTHON (DAY 7):- Dhruv Govil +919540855058"
   ]
  },
  {
   "cell_type": "code",
   "execution_count": null,
   "id": "ad704865",
   "metadata": {},
   "outputs": [],
   "source": [
    "import pandas as pd\n",
    "import matplotlib.pyplot as plt\n",
    "import seaborn as sn"
   ]
  },
  {
   "cell_type": "code",
   "execution_count": null,
   "id": "18511c10",
   "metadata": {},
   "outputs": [],
   "source": [
    "mt = pd.read_csv('mtcars.csv') "
   ]
  },
  {
   "cell_type": "code",
   "execution_count": null,
   "id": "74337913",
   "metadata": {
    "scrolled": true
   },
   "outputs": [],
   "source": [
    "mt"
   ]
  },
  {
   "cell_type": "markdown",
   "id": "3e740a33",
   "metadata": {},
   "source": [
    "## Drop some columns"
   ]
  },
  {
   "cell_type": "code",
   "execution_count": null,
   "id": "11c79df7",
   "metadata": {
    "scrolled": true
   },
   "outputs": [],
   "source": [
    "m1 = mt.drop(['mpg', 'disp', 'wt', 'am'], axis = 1)\n",
    "m1"
   ]
  },
  {
   "cell_type": "code",
   "execution_count": null,
   "id": "a68b9cb5",
   "metadata": {},
   "outputs": [],
   "source": [
    "mt.shape"
   ]
  },
  {
   "cell_type": "code",
   "execution_count": null,
   "id": "e86bbc81",
   "metadata": {},
   "outputs": [],
   "source": [
    "m1.shape"
   ]
  },
  {
   "cell_type": "code",
   "execution_count": null,
   "id": "ccb2b6c5",
   "metadata": {},
   "outputs": [],
   "source": [
    "m2  = mt.drop(columns = ['hp', 'vs', 'carb', 'gear'])\n",
    "m2"
   ]
  },
  {
   "cell_type": "markdown",
   "id": "49d69ef1",
   "metadata": {},
   "source": [
    "## Drop rows"
   ]
  },
  {
   "cell_type": "code",
   "execution_count": null,
   "id": "ad87f6ea",
   "metadata": {},
   "outputs": [],
   "source": [
    "mt.shape"
   ]
  },
  {
   "cell_type": "code",
   "execution_count": null,
   "id": "107816ee",
   "metadata": {},
   "outputs": [],
   "source": [
    "m2.shape"
   ]
  },
  {
   "cell_type": "code",
   "execution_count": null,
   "id": "1240fe05",
   "metadata": {},
   "outputs": [],
   "source": [
    "# Drop rows"
   ]
  },
  {
   "cell_type": "code",
   "execution_count": null,
   "id": "9d96ded4",
   "metadata": {},
   "outputs": [],
   "source": [
    "m3 = mt.drop([0, 12, 6, 27, 31]) # State the row indices to be dropped\n",
    "m3"
   ]
  },
  {
   "cell_type": "markdown",
   "id": "1c6a713c",
   "metadata": {},
   "source": [
    "## Statistics"
   ]
  },
  {
   "cell_type": "code",
   "execution_count": null,
   "id": "80919c70",
   "metadata": {},
   "outputs": [],
   "source": [
    "mt"
   ]
  },
  {
   "cell_type": "code",
   "execution_count": null,
   "id": "cd1ec863",
   "metadata": {},
   "outputs": [],
   "source": [
    "mt.dtypes"
   ]
  },
  {
   "cell_type": "markdown",
   "id": "ee059241",
   "metadata": {},
   "source": [
    "## Data summaries"
   ]
  },
  {
   "cell_type": "code",
   "execution_count": null,
   "id": "7703f576",
   "metadata": {},
   "outputs": [],
   "source": [
    "mt.describe()"
   ]
  },
  {
   "cell_type": "code",
   "execution_count": null,
   "id": "11029bc0",
   "metadata": {},
   "outputs": [],
   "source": [
    "mt['mpg'].median()"
   ]
  },
  {
   "cell_type": "code",
   "execution_count": null,
   "id": "058e6103",
   "metadata": {},
   "outputs": [],
   "source": [
    "mt['mpg'].mean()"
   ]
  },
  {
   "cell_type": "code",
   "execution_count": null,
   "id": "a92e5d4d",
   "metadata": {},
   "outputs": [],
   "source": [
    "mt.head()"
   ]
  },
  {
   "cell_type": "code",
   "execution_count": null,
   "id": "4084fa93",
   "metadata": {},
   "outputs": [],
   "source": [
    "mt.head(10)"
   ]
  },
  {
   "cell_type": "code",
   "execution_count": null,
   "id": "99c07f2e",
   "metadata": {},
   "outputs": [],
   "source": [
    "mt.tail() # last five observations"
   ]
  },
  {
   "cell_type": "code",
   "execution_count": null,
   "id": "14b15355",
   "metadata": {},
   "outputs": [],
   "source": [
    "mt.tail(10)"
   ]
  },
  {
   "cell_type": "code",
   "execution_count": null,
   "id": "9bfa37f1",
   "metadata": {},
   "outputs": [],
   "source": [
    "air = pd.read_csv('airquality.csv')\n",
    "air"
   ]
  },
  {
   "cell_type": "code",
   "execution_count": null,
   "id": "c577ed1b",
   "metadata": {},
   "outputs": [],
   "source": [
    "air.describe()"
   ]
  },
  {
   "cell_type": "code",
   "execution_count": null,
   "id": "629e095f",
   "metadata": {},
   "outputs": [],
   "source": [
    "air.count() # number of missing values"
   ]
  },
  {
   "cell_type": "markdown",
   "id": "dc172436",
   "metadata": {},
   "source": [
    "## Find out the total number of missing values"
   ]
  },
  {
   "cell_type": "code",
   "execution_count": null,
   "id": "a856d358",
   "metadata": {
    "scrolled": true
   },
   "outputs": [],
   "source": [
    "air.isnull().sum()"
   ]
  },
  {
   "cell_type": "code",
   "execution_count": null,
   "id": "6167f484",
   "metadata": {},
   "outputs": [],
   "source": [
    "air['Ozone'].isnull().sum() # Can check for only one variable"
   ]
  },
  {
   "cell_type": "code",
   "execution_count": null,
   "id": "bd46bb21",
   "metadata": {},
   "outputs": [],
   "source": [
    "air[['Ozone', 'Solar.R']].isnull().sum() # Can check for more than one variable "
   ]
  },
  {
   "cell_type": "code",
   "execution_count": null,
   "id": "cfb548bf",
   "metadata": {},
   "outputs": [],
   "source": [
    "# how to check the frequency of particular columns\n",
    "mt['cyl'].value_counts()"
   ]
  },
  {
   "cell_type": "code",
   "execution_count": null,
   "id": "96c1e41d",
   "metadata": {},
   "outputs": [],
   "source": [
    "mt['mpg'].value_counts()"
   ]
  },
  {
   "cell_type": "markdown",
   "id": "f6c78f42",
   "metadata": {},
   "source": [
    "## Visualization"
   ]
  },
  {
   "cell_type": "code",
   "execution_count": null,
   "id": "77a5377d",
   "metadata": {},
   "outputs": [],
   "source": [
    "import matplotlib.pyplot as plt"
   ]
  },
  {
   "cell_type": "markdown",
   "id": "646ef140",
   "metadata": {},
   "source": [
    "### Scatter plot"
   ]
  },
  {
   "cell_type": "code",
   "execution_count": null,
   "id": "ff7e5666",
   "metadata": {
    "scrolled": true
   },
   "outputs": [],
   "source": [
    "mt.plot.scatter('mpg', 'wt')"
   ]
  },
  {
   "cell_type": "code",
   "execution_count": null,
   "id": "58394c83",
   "metadata": {},
   "outputs": [],
   "source": [
    "mt.plot.scatter('mpg', 'wt', 'hp') # The third variable will be used for bubble size"
   ]
  },
  {
   "cell_type": "code",
   "execution_count": null,
   "id": "9d5aa0d0",
   "metadata": {},
   "outputs": [],
   "source": [
    "mt.corr()"
   ]
  },
  {
   "cell_type": "code",
   "execution_count": null,
   "id": "b2a641fb",
   "metadata": {
    "scrolled": false
   },
   "outputs": [],
   "source": [
    "mt.mean() # Gives the mean of each column"
   ]
  },
  {
   "cell_type": "code",
   "execution_count": null,
   "id": "63462a7d",
   "metadata": {},
   "outputs": [],
   "source": [
    "mt.mean(axis = 1) # This is mean row-wise"
   ]
  },
  {
   "cell_type": "code",
   "execution_count": null,
   "id": "e7908ef2",
   "metadata": {},
   "outputs": [],
   "source": [
    "mt.head(1)"
   ]
  },
  {
   "cell_type": "code",
   "execution_count": null,
   "id": "a4242bab",
   "metadata": {},
   "outputs": [],
   "source": [
    "(21 + 6 + 160 + 110 + 3.9 + 2.62 + 16.46 + 1 + 4 + 4) / 11"
   ]
  },
  {
   "cell_type": "code",
   "execution_count": null,
   "id": "debcb065",
   "metadata": {
    "scrolled": true
   },
   "outputs": [],
   "source": [
    "mt[['mpg', 'cyl']].head(1).mean(axis = 1) # Mean of first two columns in first row"
   ]
  },
  {
   "cell_type": "code",
   "execution_count": null,
   "id": "6c4331d8",
   "metadata": {},
   "outputs": [],
   "source": [
    "(21 + 6) / 2"
   ]
  },
  {
   "cell_type": "code",
   "execution_count": null,
   "id": "cf4bcc2f",
   "metadata": {},
   "outputs": [],
   "source": [
    "import seaborn as sns"
   ]
  },
  {
   "cell_type": "code",
   "execution_count": null,
   "id": "ef762316",
   "metadata": {},
   "outputs": [],
   "source": [
    "# sns.pairplot(mt)"
   ]
  },
  {
   "cell_type": "code",
   "execution_count": null,
   "id": "d2dd2aa4",
   "metadata": {},
   "outputs": [],
   "source": [
    "# the iloc indexer for pandas dataframe is used for selection by position\n",
    "mm = mt.iloc[:,1:3]\n",
    "mm.head()"
   ]
  },
  {
   "cell_type": "markdown",
   "id": "711e4194",
   "metadata": {},
   "source": [
    "### Pairplot"
   ]
  },
  {
   "cell_type": "code",
   "execution_count": null,
   "id": "350990c4",
   "metadata": {},
   "outputs": [],
   "source": [
    "sns.pairplot(mm)"
   ]
  },
  {
   "cell_type": "code",
   "execution_count": null,
   "id": "88f5c218",
   "metadata": {},
   "outputs": [],
   "source": [
    "sns.pairplot(mm, hue = 'cyl')"
   ]
  },
  {
   "cell_type": "code",
   "execution_count": null,
   "id": "df3685ff",
   "metadata": {},
   "outputs": [],
   "source": [
    "# Linear Regression"
   ]
  },
  {
   "cell_type": "code",
   "execution_count": null,
   "id": "359f4a2b",
   "metadata": {},
   "outputs": [],
   "source": [
    "import statsmodels.formula.api as smapi"
   ]
  },
  {
   "cell_type": "code",
   "execution_count": null,
   "id": "3a07ce62",
   "metadata": {},
   "outputs": [],
   "source": [
    "# Dependent mpg\n",
    "# indep wt"
   ]
  },
  {
   "cell_type": "code",
   "execution_count": null,
   "id": "f1755e56",
   "metadata": {},
   "outputs": [],
   "source": [
    "model1 = smapi.ols(formula = 'mpg ~ wt', data = mt).fit()\n",
    "print(model1.summary())"
   ]
  },
  {
   "cell_type": "code",
   "execution_count": null,
   "id": "343b1851",
   "metadata": {},
   "outputs": [],
   "source": [
    "pred = model1.predict()\n",
    "pred"
   ]
  },
  {
   "cell_type": "code",
   "execution_count": null,
   "id": "f9740286",
   "metadata": {
    "scrolled": true
   },
   "outputs": [],
   "source": [
    "mt['prediction'] = pred\n",
    "mt"
   ]
  },
  {
   "cell_type": "code",
   "execution_count": null,
   "id": "b11d96d9",
   "metadata": {},
   "outputs": [],
   "source": [
    "# Y = B0 + B1*X1\n",
    "B0 = 37.2851\n",
    "B1 = -5.3445\n",
    "X1 = 2.620 # wt value from the table\n",
    "\n",
    "Y = 37.2851 + (-5.3445)*(2.62)\n",
    "Y"
   ]
  },
  {
   "cell_type": "markdown",
   "id": "6dc8100e",
   "metadata": {},
   "source": [
    "### Regression line or the best fitted line"
   ]
  },
  {
   "cell_type": "code",
   "execution_count": null,
   "id": "519b1c5e",
   "metadata": {},
   "outputs": [],
   "source": [
    "plt.plot(mt['wt'], mt['mpg'], 'o')\n",
    "plt.plot(mt['wt'], pred, linewidth = 2)\n",
    "plt.xlabel('wt')\n",
    "plt.ylabel('mpg')\n",
    "plt.title('mpg vs disp')"
   ]
  },
  {
   "cell_type": "code",
   "execution_count": null,
   "id": "2120b488",
   "metadata": {},
   "outputs": [],
   "source": [
    "# Multiple Linear Regression"
   ]
  },
  {
   "cell_type": "code",
   "execution_count": null,
   "id": "d0e600b7",
   "metadata": {},
   "outputs": [],
   "source": [
    "model2 = smapi.ols(formula = 'mpg ~ wt + disp + drat + vs + hp', data = mt).fit()\n",
    "print(model2.summary())"
   ]
  },
  {
   "cell_type": "code",
   "execution_count": null,
   "id": "fb07fb9f",
   "metadata": {},
   "outputs": [],
   "source": [
    "model3 = smapi.ols(formula = 'mpg ~ wt + cyl + drat + am + carb', data = mt).fit()\n",
    "print(model3.summary())"
   ]
  },
  {
   "cell_type": "code",
   "execution_count": null,
   "id": "043dd6f1",
   "metadata": {},
   "outputs": [],
   "source": [
    "pred1 = model3.predict()\n",
    "pred1"
   ]
  },
  {
   "cell_type": "code",
   "execution_count": null,
   "id": "44830bcb",
   "metadata": {},
   "outputs": [],
   "source": [
    "mt['prediction1'] = pred1\n",
    "mt"
   ]
  },
  {
   "cell_type": "code",
   "execution_count": null,
   "id": "68aab1a3",
   "metadata": {},
   "outputs": [],
   "source": [
    "# Y = B0 + B1*X1 + B2*X2 + B3*X3 + B4*X4 + B5*X5\n",
    "#B0 = 32.9\n",
    "#B1(WT) = -2.32\n",
    "#(CYL) = -1.06\n",
    "#B3(DRAT) = 0.85\n",
    "#B4(AM) = 1.547\n",
    "#B5(CARB) = 0.841\n",
    "#B4\n",
    "\n",
    "\n",
    "Y = 32.91 + (-2.32)*(2.62)+(-1.06)*(6) + (0.85)*(3.9)*(1.547)*(1)+(-0.841)*(4)\n",
    "Y"
   ]
  }
 ],
 "metadata": {
  "kernelspec": {
   "display_name": "Python 3 (ipykernel)",
   "language": "python",
   "name": "python3"
  },
  "language_info": {
   "codemirror_mode": {
    "name": "ipython",
    "version": 3
   },
   "file_extension": ".py",
   "mimetype": "text/x-python",
   "name": "python",
   "nbconvert_exporter": "python",
   "pygments_lexer": "ipython3",
   "version": "3.9.12"
  },
  "toc": {
   "base_numbering": 1,
   "nav_menu": {},
   "number_sections": true,
   "sideBar": true,
   "skip_h1_title": false,
   "title_cell": "Contents",
   "title_sidebar": "Contents",
   "toc_cell": false,
   "toc_position": {
    "height": "384px",
    "left": "85px",
    "top": "110.167px",
    "width": "264.219px"
   },
   "toc_section_display": true,
   "toc_window_display": true
  }
 },
 "nbformat": 4,
 "nbformat_minor": 5
}
